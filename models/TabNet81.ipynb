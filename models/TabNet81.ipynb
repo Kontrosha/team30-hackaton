{
  "nbformat": 4,
  "nbformat_minor": 0,
  "metadata": {
    "colab": {
      "provenance": []
    },
    "kernelspec": {
      "name": "python3",
      "display_name": "Python 3"
    },
    "language_info": {
      "name": "python"
    }
  },
  "cells": [
    {
      "cell_type": "code",
      "execution_count": 1,
      "metadata": {
        "id": "zwpQKhWqZWzI",
        "colab": {
          "base_uri": "https://localhost:8080/"
        },
        "collapsed": true,
        "outputId": "52a45610-49da-46dd-855d-9bee3819a9ee"
      },
      "outputs": [
        {
          "output_type": "stream",
          "name": "stdout",
          "text": [
            "Collecting pytorch-tabnet\n",
            "  Downloading pytorch_tabnet-4.1.0-py3-none-any.whl.metadata (15 kB)\n",
            "Requirement already satisfied: numpy>=1.17 in /usr/local/lib/python3.10/dist-packages (from pytorch-tabnet) (1.26.4)\n",
            "Requirement already satisfied: scikit_learn>0.21 in /usr/local/lib/python3.10/dist-packages (from pytorch-tabnet) (1.6.0)\n",
            "Requirement already satisfied: scipy>1.4 in /usr/local/lib/python3.10/dist-packages (from pytorch-tabnet) (1.13.1)\n",
            "Requirement already satisfied: torch>=1.3 in /usr/local/lib/python3.10/dist-packages (from pytorch-tabnet) (2.5.1+cu121)\n",
            "Requirement already satisfied: tqdm>=4.36 in /usr/local/lib/python3.10/dist-packages (from pytorch-tabnet) (4.67.1)\n",
            "Requirement already satisfied: joblib>=1.2.0 in /usr/local/lib/python3.10/dist-packages (from scikit_learn>0.21->pytorch-tabnet) (1.4.2)\n",
            "Requirement already satisfied: threadpoolctl>=3.1.0 in /usr/local/lib/python3.10/dist-packages (from scikit_learn>0.21->pytorch-tabnet) (3.5.0)\n",
            "Requirement already satisfied: filelock in /usr/local/lib/python3.10/dist-packages (from torch>=1.3->pytorch-tabnet) (3.16.1)\n",
            "Requirement already satisfied: typing-extensions>=4.8.0 in /usr/local/lib/python3.10/dist-packages (from torch>=1.3->pytorch-tabnet) (4.12.2)\n",
            "Requirement already satisfied: networkx in /usr/local/lib/python3.10/dist-packages (from torch>=1.3->pytorch-tabnet) (3.4.2)\n",
            "Requirement already satisfied: jinja2 in /usr/local/lib/python3.10/dist-packages (from torch>=1.3->pytorch-tabnet) (3.1.4)\n",
            "Requirement already satisfied: fsspec in /usr/local/lib/python3.10/dist-packages (from torch>=1.3->pytorch-tabnet) (2024.10.0)\n",
            "Requirement already satisfied: sympy==1.13.1 in /usr/local/lib/python3.10/dist-packages (from torch>=1.3->pytorch-tabnet) (1.13.1)\n",
            "Requirement already satisfied: mpmath<1.4,>=1.1.0 in /usr/local/lib/python3.10/dist-packages (from sympy==1.13.1->torch>=1.3->pytorch-tabnet) (1.3.0)\n",
            "Requirement already satisfied: MarkupSafe>=2.0 in /usr/local/lib/python3.10/dist-packages (from jinja2->torch>=1.3->pytorch-tabnet) (3.0.2)\n",
            "Downloading pytorch_tabnet-4.1.0-py3-none-any.whl (44 kB)\n",
            "\u001b[2K   \u001b[90m━━━━━━━━━━━━━━━━━━━━━━━━━━━━━━━━━━━━━━━━\u001b[0m \u001b[32m44.5/44.5 kB\u001b[0m \u001b[31m1.5 MB/s\u001b[0m eta \u001b[36m0:00:00\u001b[0m\n",
            "\u001b[?25hInstalling collected packages: pytorch-tabnet\n",
            "Successfully installed pytorch-tabnet-4.1.0\n"
          ]
        }
      ],
      "source": [
        "# импотируем необходимые библиотеки\n",
        "import pandas as pd\n",
        "import numpy as np\n",
        "import matplotlib.pyplot as plt\n",
        "import seaborn as sns\n",
        "import gc\n",
        "!pip install pytorch-tabnet\n",
        "from pytorch_tabnet.tab_model import TabNetClassifier\n",
        "from pytorch_tabnet.callbacks import History\n",
        "from sklearn.model_selection import train_test_split\n",
        "from sklearn.preprocessing import OneHotEncoder\n",
        "from sklearn.metrics import accuracy_score\n"
      ]
    },
    {
      "cell_type": "code",
      "source": [
        "df = pd.read_csv(\"train.csv\")"
      ],
      "metadata": {
        "id": "IY_61oT8ZtvY"
      },
      "execution_count": 2,
      "outputs": []
    },
    {
      "cell_type": "code",
      "source": [
        "# выводим общую информацию о датасете\n",
        "df.info()"
      ],
      "metadata": {
        "colab": {
          "base_uri": "https://localhost:8080/"
        },
        "id": "2h5fjkNLaaGL",
        "outputId": "c4c08772-13fb-4ae7-c5c1-19113e5e4ecf"
      },
      "execution_count": 3,
      "outputs": [
        {
          "output_type": "stream",
          "name": "stdout",
          "text": [
            "<class 'pandas.core.frame.DataFrame'>\n",
            "RangeIndex: 162185 entries, 0 to 162184\n",
            "Data columns (total 22 columns):\n",
            " #   Column           Non-Null Count   Dtype  \n",
            "---  ------           --------------   -----  \n",
            " 0   request_ts       162185 non-null  int64  \n",
            " 1   user_id          162185 non-null  object \n",
            " 2   referer          162185 non-null  object \n",
            " 3   geo_id           162185 non-null  int64  \n",
            " 4   component0       162185 non-null  int64  \n",
            " 5   component1       162185 non-null  int64  \n",
            " 6   component2       162185 non-null  int64  \n",
            " 7   component3       162185 non-null  int64  \n",
            " 8   component4       162185 non-null  int64  \n",
            " 9   component5       162185 non-null  int64  \n",
            " 10  component6       162185 non-null  int64  \n",
            " 11  component7       162185 non-null  int64  \n",
            " 12  component8       162185 non-null  int64  \n",
            " 13  component9       162185 non-null  int64  \n",
            " 14  country_id       162185 non-null  object \n",
            " 15  region_id        162184 non-null  object \n",
            " 16  timezone_id      162184 non-null  object \n",
            " 17  browser          162184 non-null  object \n",
            " 18  browser_version  162184 non-null  object \n",
            " 19  os               162184 non-null  object \n",
            " 20  os_version       162184 non-null  object \n",
            " 21  target           162184 non-null  float64\n",
            "dtypes: float64(1), int64(12), object(9)\n",
            "memory usage: 27.2+ MB\n"
          ]
        }
      ]
    },
    {
      "cell_type": "code",
      "source": [
        "# удаляем пустые строки\n",
        "df = df.dropna()"
      ],
      "metadata": {
        "id": "mMQfQaujwA98"
      },
      "execution_count": 4,
      "outputs": []
    },
    {
      "cell_type": "code",
      "source": [
        "df.head()"
      ],
      "metadata": {
        "id": "3CSWcDSTwLNO",
        "colab": {
          "base_uri": "https://localhost:8080/",
          "height": 342
        },
        "outputId": "1c10a0e7-c94f-4979-8f79-c48954708013"
      },
      "execution_count": 5,
      "outputs": [
        {
          "output_type": "execute_result",
          "data": {
            "text/plain": [
              "   request_ts                           user_id                   referer  \\\n",
              "0  1701011363  fb858e8e0a2bec074450eaf94b627fd3          https://9b48ee5/   \n",
              "1  1700986581  46a5f128fd569c764a92c2eaa788095e          https://9b48ee5/   \n",
              "2  1701011071  5a74e9ac53ffb21a20cce117c0ad77ba  https://9634fd0/1409e548   \n",
              "3  1700992803  af735816ca19115431ae3d89518c8c91          https://9b48ee5/   \n",
              "4  1701021666  364f0ae0a3f29a685c4fb5bae6033b9a          https://9b48ee5/   \n",
              "\n",
              "   geo_id  component0  component1  component2  component3  component4  \\\n",
              "0    4799       11731        4045       22213       -1184       -8992   \n",
              "1    8257       11731        4045       22213       -1184       -8992   \n",
              "2    3150       12498        2451       10304       -6380       11608   \n",
              "3    2740       11731        4045       22213       -1184       -8992   \n",
              "4    4863       11731        4045       22213       -1184       -8992   \n",
              "\n",
              "   component5  ...  component8  component9  country_id  region_id timezone_id  \\\n",
              "0        9381  ...        -899       16817      c31b4e     470e75      f6155e   \n",
              "1        9381  ...        -899       16817      c31b4e     44520b      e56e80   \n",
              "2        3106  ...        3347       21870      c31b4e     616bb9      af47f1   \n",
              "3        9381  ...        -899       16817      c31b4e     3c9dca      e56e80   \n",
              "4        9381  ...        -899       16817      c31b4e     776e76     10b7947   \n",
              "\n",
              "          browser browser_version       os os_version target  \n",
              "0   Chrome Mobile         119.0.0  Android         10    0.0  \n",
              "1   Chrome Mobile         111.0.0  Android         10    0.0  \n",
              "2  Yandex Browser         20.12.5  Android         11    0.0  \n",
              "3   Chrome Mobile         119.0.0  Android         10    0.0  \n",
              "4  Yandex Browser         18.11.1  Android      4.4.4    0.0  \n",
              "\n",
              "[5 rows x 22 columns]"
            ],
            "text/html": [
              "\n",
              "  <div id=\"df-850a9c0f-cfb7-4928-b2df-029fbb3edb08\" class=\"colab-df-container\">\n",
              "    <div>\n",
              "<style scoped>\n",
              "    .dataframe tbody tr th:only-of-type {\n",
              "        vertical-align: middle;\n",
              "    }\n",
              "\n",
              "    .dataframe tbody tr th {\n",
              "        vertical-align: top;\n",
              "    }\n",
              "\n",
              "    .dataframe thead th {\n",
              "        text-align: right;\n",
              "    }\n",
              "</style>\n",
              "<table border=\"1\" class=\"dataframe\">\n",
              "  <thead>\n",
              "    <tr style=\"text-align: right;\">\n",
              "      <th></th>\n",
              "      <th>request_ts</th>\n",
              "      <th>user_id</th>\n",
              "      <th>referer</th>\n",
              "      <th>geo_id</th>\n",
              "      <th>component0</th>\n",
              "      <th>component1</th>\n",
              "      <th>component2</th>\n",
              "      <th>component3</th>\n",
              "      <th>component4</th>\n",
              "      <th>component5</th>\n",
              "      <th>...</th>\n",
              "      <th>component8</th>\n",
              "      <th>component9</th>\n",
              "      <th>country_id</th>\n",
              "      <th>region_id</th>\n",
              "      <th>timezone_id</th>\n",
              "      <th>browser</th>\n",
              "      <th>browser_version</th>\n",
              "      <th>os</th>\n",
              "      <th>os_version</th>\n",
              "      <th>target</th>\n",
              "    </tr>\n",
              "  </thead>\n",
              "  <tbody>\n",
              "    <tr>\n",
              "      <th>0</th>\n",
              "      <td>1701011363</td>\n",
              "      <td>fb858e8e0a2bec074450eaf94b627fd3</td>\n",
              "      <td>https://9b48ee5/</td>\n",
              "      <td>4799</td>\n",
              "      <td>11731</td>\n",
              "      <td>4045</td>\n",
              "      <td>22213</td>\n",
              "      <td>-1184</td>\n",
              "      <td>-8992</td>\n",
              "      <td>9381</td>\n",
              "      <td>...</td>\n",
              "      <td>-899</td>\n",
              "      <td>16817</td>\n",
              "      <td>c31b4e</td>\n",
              "      <td>470e75</td>\n",
              "      <td>f6155e</td>\n",
              "      <td>Chrome Mobile</td>\n",
              "      <td>119.0.0</td>\n",
              "      <td>Android</td>\n",
              "      <td>10</td>\n",
              "      <td>0.0</td>\n",
              "    </tr>\n",
              "    <tr>\n",
              "      <th>1</th>\n",
              "      <td>1700986581</td>\n",
              "      <td>46a5f128fd569c764a92c2eaa788095e</td>\n",
              "      <td>https://9b48ee5/</td>\n",
              "      <td>8257</td>\n",
              "      <td>11731</td>\n",
              "      <td>4045</td>\n",
              "      <td>22213</td>\n",
              "      <td>-1184</td>\n",
              "      <td>-8992</td>\n",
              "      <td>9381</td>\n",
              "      <td>...</td>\n",
              "      <td>-899</td>\n",
              "      <td>16817</td>\n",
              "      <td>c31b4e</td>\n",
              "      <td>44520b</td>\n",
              "      <td>e56e80</td>\n",
              "      <td>Chrome Mobile</td>\n",
              "      <td>111.0.0</td>\n",
              "      <td>Android</td>\n",
              "      <td>10</td>\n",
              "      <td>0.0</td>\n",
              "    </tr>\n",
              "    <tr>\n",
              "      <th>2</th>\n",
              "      <td>1701011071</td>\n",
              "      <td>5a74e9ac53ffb21a20cce117c0ad77ba</td>\n",
              "      <td>https://9634fd0/1409e548</td>\n",
              "      <td>3150</td>\n",
              "      <td>12498</td>\n",
              "      <td>2451</td>\n",
              "      <td>10304</td>\n",
              "      <td>-6380</td>\n",
              "      <td>11608</td>\n",
              "      <td>3106</td>\n",
              "      <td>...</td>\n",
              "      <td>3347</td>\n",
              "      <td>21870</td>\n",
              "      <td>c31b4e</td>\n",
              "      <td>616bb9</td>\n",
              "      <td>af47f1</td>\n",
              "      <td>Yandex Browser</td>\n",
              "      <td>20.12.5</td>\n",
              "      <td>Android</td>\n",
              "      <td>11</td>\n",
              "      <td>0.0</td>\n",
              "    </tr>\n",
              "    <tr>\n",
              "      <th>3</th>\n",
              "      <td>1700992803</td>\n",
              "      <td>af735816ca19115431ae3d89518c8c91</td>\n",
              "      <td>https://9b48ee5/</td>\n",
              "      <td>2740</td>\n",
              "      <td>11731</td>\n",
              "      <td>4045</td>\n",
              "      <td>22213</td>\n",
              "      <td>-1184</td>\n",
              "      <td>-8992</td>\n",
              "      <td>9381</td>\n",
              "      <td>...</td>\n",
              "      <td>-899</td>\n",
              "      <td>16817</td>\n",
              "      <td>c31b4e</td>\n",
              "      <td>3c9dca</td>\n",
              "      <td>e56e80</td>\n",
              "      <td>Chrome Mobile</td>\n",
              "      <td>119.0.0</td>\n",
              "      <td>Android</td>\n",
              "      <td>10</td>\n",
              "      <td>0.0</td>\n",
              "    </tr>\n",
              "    <tr>\n",
              "      <th>4</th>\n",
              "      <td>1701021666</td>\n",
              "      <td>364f0ae0a3f29a685c4fb5bae6033b9a</td>\n",
              "      <td>https://9b48ee5/</td>\n",
              "      <td>4863</td>\n",
              "      <td>11731</td>\n",
              "      <td>4045</td>\n",
              "      <td>22213</td>\n",
              "      <td>-1184</td>\n",
              "      <td>-8992</td>\n",
              "      <td>9381</td>\n",
              "      <td>...</td>\n",
              "      <td>-899</td>\n",
              "      <td>16817</td>\n",
              "      <td>c31b4e</td>\n",
              "      <td>776e76</td>\n",
              "      <td>10b7947</td>\n",
              "      <td>Yandex Browser</td>\n",
              "      <td>18.11.1</td>\n",
              "      <td>Android</td>\n",
              "      <td>4.4.4</td>\n",
              "      <td>0.0</td>\n",
              "    </tr>\n",
              "  </tbody>\n",
              "</table>\n",
              "<p>5 rows × 22 columns</p>\n",
              "</div>\n",
              "    <div class=\"colab-df-buttons\">\n",
              "\n",
              "  <div class=\"colab-df-container\">\n",
              "    <button class=\"colab-df-convert\" onclick=\"convertToInteractive('df-850a9c0f-cfb7-4928-b2df-029fbb3edb08')\"\n",
              "            title=\"Convert this dataframe to an interactive table.\"\n",
              "            style=\"display:none;\">\n",
              "\n",
              "  <svg xmlns=\"http://www.w3.org/2000/svg\" height=\"24px\" viewBox=\"0 -960 960 960\">\n",
              "    <path d=\"M120-120v-720h720v720H120Zm60-500h600v-160H180v160Zm220 220h160v-160H400v160Zm0 220h160v-160H400v160ZM180-400h160v-160H180v160Zm440 0h160v-160H620v160ZM180-180h160v-160H180v160Zm440 0h160v-160H620v160Z\"/>\n",
              "  </svg>\n",
              "    </button>\n",
              "\n",
              "  <style>\n",
              "    .colab-df-container {\n",
              "      display:flex;\n",
              "      gap: 12px;\n",
              "    }\n",
              "\n",
              "    .colab-df-convert {\n",
              "      background-color: #E8F0FE;\n",
              "      border: none;\n",
              "      border-radius: 50%;\n",
              "      cursor: pointer;\n",
              "      display: none;\n",
              "      fill: #1967D2;\n",
              "      height: 32px;\n",
              "      padding: 0 0 0 0;\n",
              "      width: 32px;\n",
              "    }\n",
              "\n",
              "    .colab-df-convert:hover {\n",
              "      background-color: #E2EBFA;\n",
              "      box-shadow: 0px 1px 2px rgba(60, 64, 67, 0.3), 0px 1px 3px 1px rgba(60, 64, 67, 0.15);\n",
              "      fill: #174EA6;\n",
              "    }\n",
              "\n",
              "    .colab-df-buttons div {\n",
              "      margin-bottom: 4px;\n",
              "    }\n",
              "\n",
              "    [theme=dark] .colab-df-convert {\n",
              "      background-color: #3B4455;\n",
              "      fill: #D2E3FC;\n",
              "    }\n",
              "\n",
              "    [theme=dark] .colab-df-convert:hover {\n",
              "      background-color: #434B5C;\n",
              "      box-shadow: 0px 1px 3px 1px rgba(0, 0, 0, 0.15);\n",
              "      filter: drop-shadow(0px 1px 2px rgba(0, 0, 0, 0.3));\n",
              "      fill: #FFFFFF;\n",
              "    }\n",
              "  </style>\n",
              "\n",
              "    <script>\n",
              "      const buttonEl =\n",
              "        document.querySelector('#df-850a9c0f-cfb7-4928-b2df-029fbb3edb08 button.colab-df-convert');\n",
              "      buttonEl.style.display =\n",
              "        google.colab.kernel.accessAllowed ? 'block' : 'none';\n",
              "\n",
              "      async function convertToInteractive(key) {\n",
              "        const element = document.querySelector('#df-850a9c0f-cfb7-4928-b2df-029fbb3edb08');\n",
              "        const dataTable =\n",
              "          await google.colab.kernel.invokeFunction('convertToInteractive',\n",
              "                                                    [key], {});\n",
              "        if (!dataTable) return;\n",
              "\n",
              "        const docLinkHtml = 'Like what you see? Visit the ' +\n",
              "          '<a target=\"_blank\" href=https://colab.research.google.com/notebooks/data_table.ipynb>data table notebook</a>'\n",
              "          + ' to learn more about interactive tables.';\n",
              "        element.innerHTML = '';\n",
              "        dataTable['output_type'] = 'display_data';\n",
              "        await google.colab.output.renderOutput(dataTable, element);\n",
              "        const docLink = document.createElement('div');\n",
              "        docLink.innerHTML = docLinkHtml;\n",
              "        element.appendChild(docLink);\n",
              "      }\n",
              "    </script>\n",
              "  </div>\n",
              "\n",
              "\n",
              "<div id=\"df-dfab6b02-641f-4d9d-8e61-6f0f07e22011\">\n",
              "  <button class=\"colab-df-quickchart\" onclick=\"quickchart('df-dfab6b02-641f-4d9d-8e61-6f0f07e22011')\"\n",
              "            title=\"Suggest charts\"\n",
              "            style=\"display:none;\">\n",
              "\n",
              "<svg xmlns=\"http://www.w3.org/2000/svg\" height=\"24px\"viewBox=\"0 0 24 24\"\n",
              "     width=\"24px\">\n",
              "    <g>\n",
              "        <path d=\"M19 3H5c-1.1 0-2 .9-2 2v14c0 1.1.9 2 2 2h14c1.1 0 2-.9 2-2V5c0-1.1-.9-2-2-2zM9 17H7v-7h2v7zm4 0h-2V7h2v10zm4 0h-2v-4h2v4z\"/>\n",
              "    </g>\n",
              "</svg>\n",
              "  </button>\n",
              "\n",
              "<style>\n",
              "  .colab-df-quickchart {\n",
              "      --bg-color: #E8F0FE;\n",
              "      --fill-color: #1967D2;\n",
              "      --hover-bg-color: #E2EBFA;\n",
              "      --hover-fill-color: #174EA6;\n",
              "      --disabled-fill-color: #AAA;\n",
              "      --disabled-bg-color: #DDD;\n",
              "  }\n",
              "\n",
              "  [theme=dark] .colab-df-quickchart {\n",
              "      --bg-color: #3B4455;\n",
              "      --fill-color: #D2E3FC;\n",
              "      --hover-bg-color: #434B5C;\n",
              "      --hover-fill-color: #FFFFFF;\n",
              "      --disabled-bg-color: #3B4455;\n",
              "      --disabled-fill-color: #666;\n",
              "  }\n",
              "\n",
              "  .colab-df-quickchart {\n",
              "    background-color: var(--bg-color);\n",
              "    border: none;\n",
              "    border-radius: 50%;\n",
              "    cursor: pointer;\n",
              "    display: none;\n",
              "    fill: var(--fill-color);\n",
              "    height: 32px;\n",
              "    padding: 0;\n",
              "    width: 32px;\n",
              "  }\n",
              "\n",
              "  .colab-df-quickchart:hover {\n",
              "    background-color: var(--hover-bg-color);\n",
              "    box-shadow: 0 1px 2px rgba(60, 64, 67, 0.3), 0 1px 3px 1px rgba(60, 64, 67, 0.15);\n",
              "    fill: var(--button-hover-fill-color);\n",
              "  }\n",
              "\n",
              "  .colab-df-quickchart-complete:disabled,\n",
              "  .colab-df-quickchart-complete:disabled:hover {\n",
              "    background-color: var(--disabled-bg-color);\n",
              "    fill: var(--disabled-fill-color);\n",
              "    box-shadow: none;\n",
              "  }\n",
              "\n",
              "  .colab-df-spinner {\n",
              "    border: 2px solid var(--fill-color);\n",
              "    border-color: transparent;\n",
              "    border-bottom-color: var(--fill-color);\n",
              "    animation:\n",
              "      spin 1s steps(1) infinite;\n",
              "  }\n",
              "\n",
              "  @keyframes spin {\n",
              "    0% {\n",
              "      border-color: transparent;\n",
              "      border-bottom-color: var(--fill-color);\n",
              "      border-left-color: var(--fill-color);\n",
              "    }\n",
              "    20% {\n",
              "      border-color: transparent;\n",
              "      border-left-color: var(--fill-color);\n",
              "      border-top-color: var(--fill-color);\n",
              "    }\n",
              "    30% {\n",
              "      border-color: transparent;\n",
              "      border-left-color: var(--fill-color);\n",
              "      border-top-color: var(--fill-color);\n",
              "      border-right-color: var(--fill-color);\n",
              "    }\n",
              "    40% {\n",
              "      border-color: transparent;\n",
              "      border-right-color: var(--fill-color);\n",
              "      border-top-color: var(--fill-color);\n",
              "    }\n",
              "    60% {\n",
              "      border-color: transparent;\n",
              "      border-right-color: var(--fill-color);\n",
              "    }\n",
              "    80% {\n",
              "      border-color: transparent;\n",
              "      border-right-color: var(--fill-color);\n",
              "      border-bottom-color: var(--fill-color);\n",
              "    }\n",
              "    90% {\n",
              "      border-color: transparent;\n",
              "      border-bottom-color: var(--fill-color);\n",
              "    }\n",
              "  }\n",
              "</style>\n",
              "\n",
              "  <script>\n",
              "    async function quickchart(key) {\n",
              "      const quickchartButtonEl =\n",
              "        document.querySelector('#' + key + ' button');\n",
              "      quickchartButtonEl.disabled = true;  // To prevent multiple clicks.\n",
              "      quickchartButtonEl.classList.add('colab-df-spinner');\n",
              "      try {\n",
              "        const charts = await google.colab.kernel.invokeFunction(\n",
              "            'suggestCharts', [key], {});\n",
              "      } catch (error) {\n",
              "        console.error('Error during call to suggestCharts:', error);\n",
              "      }\n",
              "      quickchartButtonEl.classList.remove('colab-df-spinner');\n",
              "      quickchartButtonEl.classList.add('colab-df-quickchart-complete');\n",
              "    }\n",
              "    (() => {\n",
              "      let quickchartButtonEl =\n",
              "        document.querySelector('#df-dfab6b02-641f-4d9d-8e61-6f0f07e22011 button');\n",
              "      quickchartButtonEl.style.display =\n",
              "        google.colab.kernel.accessAllowed ? 'block' : 'none';\n",
              "    })();\n",
              "  </script>\n",
              "</div>\n",
              "    </div>\n",
              "  </div>\n"
            ],
            "application/vnd.google.colaboratory.intrinsic+json": {
              "type": "dataframe",
              "variable_name": "df"
            }
          },
          "metadata": {},
          "execution_count": 5
        }
      ]
    },
    {
      "cell_type": "markdown",
      "source": [
        "Из данных видим, что есть очевидно лишний столбец user_id, который не поможет при обучении, данные из столбца geo_id требует перевода в тип object, также приведем к целочисленному типу target, приведем к строковому типу данных referer для последующей обработки"
      ],
      "metadata": {
        "id": "C19qj5pOwSYp"
      }
    },
    {
      "cell_type": "code",
      "source": [
        "df.drop(columns=['user_id'], inplace=True)\n",
        "df['geo_id'] = df[\"geo_id\"].astype(\"object\")\n",
        "df['target'] = df[\"target\"].astype(\"int64\")\n",
        "df = df[df['referer'].apply(lambda x: isinstance(x, str))]"
      ],
      "metadata": {
        "id": "DuJ0Zwrni3CP"
      },
      "execution_count": 6,
      "outputs": []
    },
    {
      "cell_type": "markdown",
      "source": [
        "Разделим данные из колонки referer на domain и path - чтобы отдельно обрабатывать информацию об основной странице и отдельно - о вкладках, к которые переходил пользователь. Таким образом, удобнее обрабатывать данные о том, переходил ли пользователь куда-то кроме главной страницы. После со здания двух новых колонок удаляем referer"
      ],
      "metadata": {
        "id": "VU4QUsGfzQXq"
      }
    },
    {
      "cell_type": "code",
      "source": [
        "def split_referer(referer):\n",
        "    referer = referer[8::]\n",
        "    parts = referer.split('/', 2)\n",
        "    domain = parts[0]\n",
        "    if len(parts) > 1 and parts [1]:\n",
        "        path = parts[1]\n",
        "    else:\n",
        "        path = 'nopath'\n",
        "    return domain, path"
      ],
      "metadata": {
        "id": "rGX0GcG0nO1c"
      },
      "execution_count": 7,
      "outputs": []
    },
    {
      "cell_type": "code",
      "source": [
        "df[['domain', 'path']] = df['referer'].apply(split_referer).tolist()"
      ],
      "metadata": {
        "id": "RUcamZLPyS-T"
      },
      "execution_count": 8,
      "outputs": []
    },
    {
      "cell_type": "code",
      "source": [
        "df.drop(columns=['referer'], inplace=True)"
      ],
      "metadata": {
        "id": "xFs7aNS83CAi"
      },
      "execution_count": 9,
      "outputs": []
    },
    {
      "cell_type": "markdown",
      "source": [
        "Поскольку категориальные признаки нужно будет переводить в числовые и более правильным видится метод OneHotEncoding (ввиду отсутствия естественного порядка в данных (за исключением разве что browser_version и os_version, но для этого нужна дополнительная предобработка, так как разные версии относятся еще и к разным видам), то необходимо посмотреть на количество возможных новых столбцов. Как видим из статистики, данные нужно сокращать (в противном случае размер датасета становится около 9 Гб и не позволяет обучить модель на имеющихся ресурсах). Я применил следующее: обрезал номера версий ОС и браузеров до основного номера, по признакам 'domain', 'path', 'region_id', 'geo_id', 'browser_version', 'timezone_id' - редкие категории (количество которых менее 100) и по признаку 'os_version' (если количество менее 30) заменил на искуствнное значение 0"
      ],
      "metadata": {
        "id": "D6qXaXwS03FN"
      }
    },
    {
      "cell_type": "code",
      "source": [
        "columns_to_check = ['domain', 'path', 'country_id', 'geo_id', 'region_id', 'timezone_id', 'browser_version', 'os', 'os_version']\n",
        "unique_counts = df[columns_to_check].agg('nunique')\n",
        "print(unique_counts)"
      ],
      "metadata": {
        "colab": {
          "base_uri": "https://localhost:8080/"
        },
        "id": "iZLCQy5zSO44",
        "outputId": "3aca1999-440e-4b8c-c6e3-fd6025de7397"
      },
      "execution_count": 10,
      "outputs": [
        {
          "output_type": "stream",
          "name": "stdout",
          "text": [
            "domain              3174\n",
            "path               45346\n",
            "country_id            12\n",
            "geo_id              1648\n",
            "region_id            245\n",
            "timezone_id           59\n",
            "browser_version      945\n",
            "os                     7\n",
            "os_version           177\n",
            "dtype: int64\n"
          ]
        }
      ]
    },
    {
      "cell_type": "code",
      "source": [
        "col_for_del = ['browser_version', 'os_version']\n",
        "for column in col_for_del:\n",
        "    df[column] = df[column].astype(str).str.split('.').str[0]"
      ],
      "metadata": {
        "id": "Gj2i7g12W3CG"
      },
      "execution_count": 11,
      "outputs": []
    },
    {
      "cell_type": "code",
      "source": [
        "for column in columns_to_check:\n",
        "    print(f\"Статистика по столбцу '{column}':\")\n",
        "    value_counts = df[column].value_counts()\n",
        "    print(value_counts)\n",
        "    print(\"-\" * 30)"
      ],
      "metadata": {
        "colab": {
          "base_uri": "https://localhost:8080/"
        },
        "id": "NI3UpXffTbq1",
        "outputId": "e086318a-30de-428f-d7c0-67918fce9084",
        "collapsed": true
      },
      "execution_count": 12,
      "outputs": [
        {
          "output_type": "stream",
          "name": "stdout",
          "text": [
            "Статистика по столбцу 'domain':\n",
            "domain\n",
            "72879b4    15279\n",
            "6a81948    13561\n",
            "8807153     8795\n",
            "9f1218f     7316\n",
            "9b08d64     7286\n",
            "           ...  \n",
            "7b4f1c2        1\n",
            "a77b2a5        1\n",
            "93e5a50        1\n",
            "ae26de9        1\n",
            "6a4ffd0        1\n",
            "Name: count, Length: 3174, dtype: int64\n",
            "------------------------------\n",
            "Статистика по столбцу 'path':\n",
            "path\n",
            "nopath      60796\n",
            "16658dd6      916\n",
            "172507b2      883\n",
            "175de82a      736\n",
            "1458ef49      627\n",
            "            ...  \n",
            "133a89b7        1\n",
            "134a4a49        1\n",
            "17cbece0        1\n",
            "13ff28d0        1\n",
            "1473937a        1\n",
            "Name: count, Length: 45346, dtype: int64\n",
            "------------------------------\n",
            "Статистика по столбцу 'country_id':\n",
            "country_id\n",
            "c31b4e     142415\n",
            "121db33      8512\n",
            "af12ca       3034\n",
            "b98648       2404\n",
            "1234f1d      2357\n",
            "ac5671       1892\n",
            "110628b       479\n",
            "eba88b        420\n",
            "e37756        416\n",
            "103bf7d       147\n",
            "122be0f        94\n",
            "ff9306         14\n",
            "Name: count, dtype: int64\n",
            "------------------------------\n",
            "Статистика по столбцу 'geo_id':\n",
            "geo_id\n",
            "3663    28311\n",
            "2521    12509\n",
            "4106     5163\n",
            "8816     4792\n",
            "1198     4199\n",
            "        ...  \n",
            "8091        1\n",
            "9886        1\n",
            "8008        1\n",
            "882         1\n",
            "936         1\n",
            "Name: count, Length: 1648, dtype: int64\n",
            "------------------------------\n",
            "Статистика по столбцу 'region_id':\n",
            "region_id\n",
            "8ccc01    33359\n",
            "97023a    13459\n",
            "36e3f3     5774\n",
            "1b18a1     5721\n",
            "5f9c68     5275\n",
            "          ...  \n",
            "56bb94        1\n",
            "278ed8        1\n",
            "4ec7ee        1\n",
            "4aa538        1\n",
            "9712d9        1\n",
            "Name: count, Length: 245, dtype: int64\n",
            "------------------------------\n",
            "Статистика по столбцу 'timezone_id':\n",
            "timezone_id\n",
            "e56e80     88004\n",
            "f6155e     18876\n",
            "ac9429      8512\n",
            "10b7947     6089\n",
            "9cdb77      5275\n",
            "ef97a6      2654\n",
            "b4a275      2443\n",
            "f7f7b5      2296\n",
            "1054b86     2279\n",
            "be683c      2226\n",
            "115b511     2129\n",
            "992ebe      2065\n",
            "caf0e9      1907\n",
            "b017ac      1892\n",
            "ad8d84      1850\n",
            "e7021b      1552\n",
            "c65773      1416\n",
            "b72333      1257\n",
            "ab90ca      1127\n",
            "1304d52      970\n",
            "df194e       870\n",
            "109a080      794\n",
            "ced83d       745\n",
            "c1ffd0       719\n",
            "cea125       554\n",
            "af47f1       525\n",
            "11a38d2      479\n",
            "e3abc2       416\n",
            "124b6f2      367\n",
            "accf88       330\n",
            "d6f683       302\n",
            "abea49       224\n",
            "fcd4df       177\n",
            "dd8d07       172\n",
            "d93ac7       110\n",
            "fb36b2       106\n",
            "1041045       95\n",
            "ca5519        94\n",
            "fd4ddf        63\n",
            "10b11be       59\n",
            "12119c5       53\n",
            "dc32f4        17\n",
            "d903ee        15\n",
            "e38b8d        14\n",
            "cde24c        14\n",
            "c0b986        13\n",
            "ca5e36        11\n",
            "f55fca         6\n",
            "10ba90d        5\n",
            "c56e83         3\n",
            "124ce1d        2\n",
            "fcada0         2\n",
            "eb8296         2\n",
            "122944d        2\n",
            "c7030f         1\n",
            "cb876b         1\n",
            "12bec9f        1\n",
            "11975eb        1\n",
            "d5b4d6         1\n",
            "Name: count, dtype: int64\n",
            "------------------------------\n",
            "Статистика по столбцу 'browser_version':\n",
            "browser_version\n",
            "119    61935\n",
            "23     32915\n",
            "118    13033\n",
            "116     9221\n",
            "109     4100\n",
            "       ...  \n",
            "223        1\n",
            "297        1\n",
            "32         1\n",
            "415        1\n",
            "51         1\n",
            "Name: count, Length: 152, dtype: int64\n",
            "------------------------------\n",
            "Статистика по столбцу 'os':\n",
            "os\n",
            "Android          114956\n",
            "Windows           41338\n",
            "iOS                4324\n",
            "Mac OS X           1367\n",
            "Tizen               168\n",
            "Chrome OS            27\n",
            "Windows Phone         4\n",
            "Name: count, dtype: int64\n",
            "------------------------------\n",
            "Статистика по столбцу 'os_version':\n",
            "os_version\n",
            "10       101335\n",
            "13        15619\n",
            "11        13347\n",
            "12        10500\n",
            "7          6632\n",
            "9          5019\n",
            "8          4164\n",
            "16         1405\n",
            "17         1323\n",
            "15          921\n",
            "6           587\n",
            "5           517\n",
            "14          440\n",
            "XP          155\n",
            "4           151\n",
            "Vista        20\n",
            "3            19\n",
            "14541        18\n",
            "14816         3\n",
            "2             2\n",
            "12239         1\n",
            "23            1\n",
            "13816         1\n",
            "10718         1\n",
            "13904         1\n",
            "14092         1\n",
            "12105         1\n",
            "Name: count, dtype: int64\n",
            "------------------------------\n"
          ]
        }
      ]
    },
    {
      "cell_type": "code",
      "source": [
        "def rare_100(df, columns):\n",
        "    for col in columns:\n",
        "        value_counts = df[col].value_counts()\n",
        "        rare_values = value_counts[value_counts <= 100].index\n",
        "        df[col] = df[col].replace(rare_values, 0)\n",
        "    return df\n",
        "\n",
        "def rare_os(df, columns):\n",
        "    for col in columns:\n",
        "        value_counts = df[col].value_counts()\n",
        "        rare_values = value_counts[value_counts <= 30].index\n",
        "        df[col] = df[col].replace(rare_values, 0)\n",
        "    return df"
      ],
      "metadata": {
        "id": "T2Vs8VG9UHdb"
      },
      "execution_count": 13,
      "outputs": []
    },
    {
      "cell_type": "code",
      "source": [
        "df = rare_100(df, ['domain', 'path', 'region_id', 'geo_id', 'browser_version', 'timezone_id'])\n",
        "df = rare_os(df, ['os_version'])"
      ],
      "metadata": {
        "colab": {
          "base_uri": "https://localhost:8080/"
        },
        "id": "TWAx3VFTVyYa",
        "outputId": "f3394544-0d9a-42ce-af92-ab8a6cd53b24"
      },
      "execution_count": 16,
      "outputs": [
        {
          "output_type": "stream",
          "name": "stderr",
          "text": [
            "<ipython-input-13-d5f553256292>:5: FutureWarning: Downcasting behavior in `replace` is deprecated and will be removed in a future version. To retain the old behavior, explicitly call `result.infer_objects(copy=False)`. To opt-in to the future behavior, set `pd.set_option('future.no_silent_downcasting', True)`\n",
            "  df[col] = df[col].replace(rare_values, 0)\n"
          ]
        }
      ]
    },
    {
      "cell_type": "code",
      "source": [
        "for column in columns_to_check:\n",
        "    print(f\"Статистика по столбцу '{column}':\")\n",
        "    value_counts = df[column].value_counts()\n",
        "    print(value_counts)\n",
        "    print(\"-\" * 30)"
      ],
      "metadata": {
        "colab": {
          "base_uri": "https://localhost:8080/"
        },
        "id": "2gPJcWBkVyj7",
        "outputId": "a538b2fe-d77c-487e-a265-58040162d7a1",
        "collapsed": true
      },
      "execution_count": 18,
      "outputs": [
        {
          "output_type": "stream",
          "name": "stdout",
          "text": [
            "Статистика по столбцу 'domain':\n",
            "domain\n",
            "0          22467\n",
            "72879b4    15279\n",
            "6a81948    13561\n",
            "8807153     8795\n",
            "9f1218f     7316\n",
            "           ...  \n",
            "81234ad      108\n",
            "60eaef2      106\n",
            "a771224      106\n",
            "bde0f1c      102\n",
            "805f010      101\n",
            "Name: count, Length: 151, dtype: int64\n",
            "------------------------------\n",
            "Статистика по столбцу 'path':\n",
            "path\n",
            "0           86431\n",
            "nopath      60796\n",
            "16658dd6      916\n",
            "172507b2      883\n",
            "175de82a      736\n",
            "            ...  \n",
            "16e1a7c7      103\n",
            "159f800a      102\n",
            "172d5d6b      101\n",
            "151268f0      101\n",
            "1228a86b      101\n",
            "Name: count, Length: 71, dtype: int64\n",
            "------------------------------\n",
            "Статистика по столбцу 'country_id':\n",
            "country_id\n",
            "c31b4e     142415\n",
            "121db33      8512\n",
            "af12ca       3034\n",
            "b98648       2404\n",
            "1234f1d      2357\n",
            "ac5671       1892\n",
            "110628b       479\n",
            "eba88b        420\n",
            "e37756        416\n",
            "103bf7d       147\n",
            "122be0f        94\n",
            "ff9306         14\n",
            "Name: count, dtype: int64\n",
            "------------------------------\n",
            "Статистика по столбцу 'geo_id':\n",
            "geo_id\n",
            "3663    28311\n",
            "0       18145\n",
            "2521    12509\n",
            "4106     5163\n",
            "8816     4792\n",
            "        ...  \n",
            "6774      106\n",
            "2851      105\n",
            "1504      104\n",
            "4532      103\n",
            "9997      101\n",
            "Name: count, Length: 156, dtype: int64\n",
            "------------------------------\n",
            "Статистика по столбцу 'region_id':\n",
            "region_id\n",
            "8ccc01    33359\n",
            "97023a    13459\n",
            "36e3f3     5774\n",
            "1b18a1     5721\n",
            "5f9c68     5275\n",
            "          ...  \n",
            "2d97a6      172\n",
            "2c9e8f      152\n",
            "3a5545      145\n",
            "1943cd      116\n",
            "2ed96a      112\n",
            "Name: count, Length: 103, dtype: int64\n",
            "------------------------------\n",
            "Статистика по столбцу 'timezone_id':\n",
            "timezone_id\n",
            "e56e80     88004\n",
            "f6155e     18876\n",
            "ac9429      8512\n",
            "10b7947     6089\n",
            "9cdb77      5275\n",
            "ef97a6      2654\n",
            "b4a275      2443\n",
            "f7f7b5      2296\n",
            "1054b86     2279\n",
            "be683c      2226\n",
            "115b511     2129\n",
            "992ebe      2065\n",
            "caf0e9      1907\n",
            "b017ac      1892\n",
            "ad8d84      1850\n",
            "e7021b      1552\n",
            "c65773      1416\n",
            "b72333      1257\n",
            "ab90ca      1127\n",
            "1304d52      970\n",
            "df194e       870\n",
            "109a080      794\n",
            "ced83d       745\n",
            "c1ffd0       719\n",
            "cea125       554\n",
            "af47f1       525\n",
            "11a38d2      479\n",
            "0            475\n",
            "e3abc2       416\n",
            "124b6f2      367\n",
            "accf88       330\n",
            "d6f683       302\n",
            "abea49       224\n",
            "fcd4df       177\n",
            "dd8d07       172\n",
            "d93ac7       110\n",
            "fb36b2       106\n",
            "Name: count, dtype: int64\n",
            "------------------------------\n",
            "Статистика по столбцу 'browser_version':\n",
            "browser_version\n",
            "119    61935\n",
            "23     32915\n",
            "118    13033\n",
            "116     9221\n",
            "109     4100\n",
            "       ...  \n",
            "93       166\n",
            "101      151\n",
            "74       141\n",
            "18       127\n",
            "75       108\n",
            "Name: count, Length: 61, dtype: int64\n",
            "------------------------------\n",
            "Статистика по столбцу 'os':\n",
            "os\n",
            "Android          114956\n",
            "Windows           41338\n",
            "iOS                4324\n",
            "Mac OS X           1367\n",
            "Tizen               168\n",
            "Chrome OS            27\n",
            "Windows Phone         4\n",
            "Name: count, dtype: int64\n",
            "------------------------------\n",
            "Статистика по столбцу 'os_version':\n",
            "os_version\n",
            "10    101335\n",
            "13     15619\n",
            "11     13347\n",
            "12     10500\n",
            "7       6632\n",
            "9       5019\n",
            "8       4164\n",
            "16      1405\n",
            "17      1323\n",
            "15       921\n",
            "6        587\n",
            "5        517\n",
            "14       440\n",
            "XP       155\n",
            "4        151\n",
            "0         69\n",
            "Name: count, dtype: int64\n",
            "------------------------------\n"
          ]
        }
      ]
    },
    {
      "cell_type": "markdown",
      "source": [
        "Для категориальных признаков применяем OneHotEncoding"
      ],
      "metadata": {
        "id": "LB_v2m_83Y9f"
      }
    },
    {
      "cell_type": "code",
      "source": [
        "features_to_encode = ['domain', 'path', 'country_id', 'region_id', 'os', 'os_version', 'browser', 'timezone_id', 'browser_version']"
      ],
      "metadata": {
        "id": "uK-NKCd79KkQ"
      },
      "execution_count": 19,
      "outputs": []
    },
    {
      "cell_type": "code",
      "source": [
        "df = pd.get_dummies(df, columns=features_to_encode, prefix=features_to_encode)"
      ],
      "metadata": {
        "id": "rYjsUJDu_DDE"
      },
      "execution_count": 22,
      "outputs": []
    },
    {
      "cell_type": "code",
      "source": [
        "def convert_bool_columns_to_int(df):\n",
        "    for column in df.columns:\n",
        "        if df[column].dtype == 'bool':\n",
        "            df[column] = df[column].astype(int)\n",
        "    return df\n",
        "\n",
        "df = convert_bool_columns_to_int(df)"
      ],
      "metadata": {
        "id": "ILAEUE_HTKjN"
      },
      "execution_count": 24,
      "outputs": []
    },
    {
      "cell_type": "markdown",
      "source": [
        "Создаем отдельные датафреймы с обучающими данными и с целевым признаком. Разделяем данные на обучающую, валидационную и тестовую выборки, преобразуем их к формату, читаемому моделью TabNet"
      ],
      "metadata": {
        "id": "YECleQ-Z3jvI"
      }
    },
    {
      "cell_type": "code",
      "source": [
        "df.to_csv('/content/dfdot.csv', sep=';', encoding='utf-8')\n",
        "df.to_csv('/content/dfnedot.csv', sep=',', encoding='utf-8')"
      ],
      "metadata": {
        "id": "qvcNwaGXSLLJ"
      },
      "execution_count": null,
      "outputs": []
    },
    {
      "cell_type": "code",
      "source": [
        "X = df.drop('target', axis=1)\n",
        "y = df['target']"
      ],
      "metadata": {
        "id": "6CRY3F3b3iEE"
      },
      "execution_count": 25,
      "outputs": []
    },
    {
      "cell_type": "code",
      "source": [
        "X_train, X_temp, y_train, y_temp = train_test_split(X, y, test_size=0.3, random_state=42)\n",
        "X_valid, X_test, y_valid, y_test = train_test_split(X_temp, y_temp, test_size=0.4, random_state=42)"
      ],
      "metadata": {
        "id": "l6virhOUK3Fj"
      },
      "execution_count": 27,
      "outputs": []
    },
    {
      "cell_type": "code",
      "source": [
        "X_train = X_train.values\n",
        "X_valid = X_valid.values\n",
        "X_test = X_test.values\n",
        "y_train = y_train.values\n",
        "y_valid = y_valid.values\n",
        "y_test = y_test.values"
      ],
      "metadata": {
        "id": "Zkide3UF5vkl"
      },
      "execution_count": 28,
      "outputs": []
    },
    {
      "cell_type": "markdown",
      "source": [
        "Обучение проводилось с разными вариациями гиперпараметров (в частности, max_epochs, batch_size, learning rate, n_d и n_a, patience) - примеры вынесены в отдельный файл. Ниже представлена итоговая версия, с параметрами, показавшими лучший результат (все значения дефолтные кроме количества эпох и размера батча)"
      ],
      "metadata": {
        "id": "Jc-eRgDMocdc"
      }
    },
    {
      "cell_type": "code",
      "source": [
        "clf = TabNetClassifier()\n",
        "clf.fit(\n",
        "  X_train, y_train,\n",
        "  eval_set=[(X_valid, y_valid)],\n",
        "  eval_metric=['accuracy'],\n",
        "  batch_size=512,\n",
        "  max_epochs=50,\n",
        "  callbacks=[]\n",
        ")"
      ],
      "metadata": {
        "id": "m2dYQmB34mSe",
        "colab": {
          "base_uri": "https://localhost:8080/"
        },
        "outputId": "b6d07200-d355-4751-d5c6-7be0332cbaca"
      },
      "execution_count": 30,
      "outputs": [
        {
          "output_type": "stream",
          "name": "stderr",
          "text": [
            "/usr/local/lib/python3.10/dist-packages/pytorch_tabnet/abstract_model.py:82: UserWarning: Device used : cpu\n",
            "  warnings.warn(f\"Device used : {self.device}\")\n"
          ]
        },
        {
          "output_type": "stream",
          "name": "stdout",
          "text": [
            "epoch 0  | loss: 0.69207 | val_0_accuracy: 0.53057 |  0:00:42s\n",
            "epoch 1  | loss: 0.55918 | val_0_accuracy: 0.52924 |  0:01:24s\n",
            "epoch 2  | loss: 0.50933 | val_0_accuracy: 0.52869 |  0:02:07s\n",
            "epoch 3  | loss: 0.49107 | val_0_accuracy: 0.63652 |  0:02:50s\n",
            "epoch 4  | loss: 0.47607 | val_0_accuracy: 0.77967 |  0:03:33s\n",
            "epoch 5  | loss: 0.46779 | val_0_accuracy: 0.7981  |  0:04:15s\n",
            "epoch 6  | loss: 0.45865 | val_0_accuracy: 0.80327 |  0:04:59s\n",
            "epoch 7  | loss: 0.45387 | val_0_accuracy: 0.80574 |  0:05:42s\n",
            "epoch 8  | loss: 0.44997 | val_0_accuracy: 0.80434 |  0:06:24s\n",
            "epoch 9  | loss: 0.44681 | val_0_accuracy: 0.80971 |  0:07:07s\n",
            "epoch 10 | loss: 0.44258 | val_0_accuracy: 0.80886 |  0:07:50s\n",
            "epoch 11 | loss: 0.44099 | val_0_accuracy: 0.81146 |  0:08:32s\n",
            "epoch 12 | loss: 0.43774 | val_0_accuracy: 0.81156 |  0:09:15s\n",
            "epoch 13 | loss: 0.43588 | val_0_accuracy: 0.8118  |  0:09:57s\n",
            "epoch 14 | loss: 0.43444 | val_0_accuracy: 0.81167 |  0:10:39s\n",
            "epoch 15 | loss: 0.43191 | val_0_accuracy: 0.81061 |  0:11:21s\n",
            "epoch 16 | loss: 0.43069 | val_0_accuracy: 0.81222 |  0:12:03s\n",
            "epoch 17 | loss: 0.42873 | val_0_accuracy: 0.81016 |  0:12:45s\n",
            "epoch 18 | loss: 0.42646 | val_0_accuracy: 0.8103  |  0:13:27s\n",
            "epoch 19 | loss: 0.42531 | val_0_accuracy: 0.81324 |  0:14:09s\n",
            "epoch 20 | loss: 0.42296 | val_0_accuracy: 0.81304 |  0:14:52s\n",
            "epoch 21 | loss: 0.42226 | val_0_accuracy: 0.81146 |  0:15:38s\n",
            "epoch 22 | loss: 0.42043 | val_0_accuracy: 0.80992 |  0:16:27s\n",
            "epoch 23 | loss: 0.42212 | val_0_accuracy: 0.81126 |  0:17:16s\n",
            "epoch 24 | loss: 0.41785 | val_0_accuracy: 0.80691 |  0:18:02s\n",
            "epoch 25 | loss: 0.41811 | val_0_accuracy: 0.80783 |  0:18:48s\n",
            "epoch 26 | loss: 0.41525 | val_0_accuracy: 0.8103  |  0:19:34s\n",
            "epoch 27 | loss: 0.41346 | val_0_accuracy: 0.808   |  0:20:19s\n",
            "epoch 28 | loss: 0.41306 | val_0_accuracy: 0.80759 |  0:21:05s\n",
            "epoch 29 | loss: 0.41143 | val_0_accuracy: 0.80958 |  0:21:50s\n",
            "\n",
            "Early stopping occurred at epoch 29 with best_epoch = 19 and best_val_0_accuracy = 0.81324\n"
          ]
        },
        {
          "output_type": "stream",
          "name": "stderr",
          "text": [
            "/usr/local/lib/python3.10/dist-packages/pytorch_tabnet/callbacks.py:172: UserWarning: Best weights from best epoch are automatically used!\n",
            "  warnings.warn(wrn_msg)\n"
          ]
        }
      ]
    },
    {
      "cell_type": "markdown",
      "source": [
        "Получаем историю обучения и строим график"
      ],
      "metadata": {
        "id": "oKQ434h29KWG"
      }
    },
    {
      "cell_type": "code",
      "source": [
        "history = clf.history\n",
        "train_loss = history['loss']\n",
        "valid_accuracy = history['val_0_accuracy']"
      ],
      "metadata": {
        "id": "95EHIvgEpTyG"
      },
      "execution_count": 31,
      "outputs": []
    },
    {
      "cell_type": "code",
      "source": [
        "epochs = range(1, len(train_loss) + 1)\n",
        "\n",
        "plt.figure(figsize=(12, 6))\n",
        "\n",
        "plt.subplot(1, 2, 1)\n",
        "plt.plot(epochs, train_loss, 'b', label='Training loss')\n",
        "plt.title('Training and validation loss')\n",
        "plt.xlabel('Эпохи')\n",
        "plt.ylabel('Loss')\n",
        "plt.legend()\n",
        "\n",
        "plt.subplot(1, 2, 2)\n",
        "plt.plot(epochs, valid_accuracy, 'g', label='Validation accuracy')\n",
        "plt.title('Validation accuracy')\n",
        "plt.xlabel('Epochs')\n",
        "plt.ylabel('Accuracy')\n",
        "plt.legend()\n",
        "\n",
        "plt.tight_layout()\n",
        "plt.show()"
      ],
      "metadata": {
        "id": "BAtPKaTBv87x",
        "colab": {
          "base_uri": "https://localhost:8080/",
          "height": 607
        },
        "outputId": "82bbc3f5-ac30-4ee8-e8aa-f7ee6dd3b755"
      },
      "execution_count": 32,
      "outputs": [
        {
          "output_type": "display_data",
          "data": {
            "text/plain": [
              "<Figure size 1200x600 with 2 Axes>"
            ],
            "image/png": "[encoded data removed]"
          },
          "metadata": {}
        }
      ]
    },
    {
      "cell_type": "code",
      "source": [
        "preds = clf.predict(X_test)\n",
        "accuracy = accuracy_score(y_test, preds)\n",
        "print(f\"Accuracy на тестовых данных: {accuracy:.4f}\")"
      ],
      "metadata": {
        "id": "cUTzgAZC4nP1",
        "colab": {
          "base_uri": "https://localhost:8080/"
        },
        "outputId": "3b3beb9d-c88e-4551-a4ac-ee033b507039"
      },
      "execution_count": 33,
      "outputs": [
        {
          "output_type": "stream",
          "name": "stdout",
          "text": [
            "Accuracy на тестовых данных: 0.8152\n"
          ]
        }
      ]
    },
    {
      "cell_type": "code",
      "source": [
        "feature_names = list(X.columns)"
      ],
      "metadata": {
        "id": "WjcNe4j0sIYf"
      },
      "execution_count": 34,
      "outputs": []
    },
    {
      "cell_type": "code",
      "source": [
        "def get_top_features(clf, X_test, feature_names, num_top_features=20):\n",
        "    explain_matrix, masks = clf.explain(X_test)\n",
        "\n",
        "    # агрегируем важность признаков (среднее по всем образцам)\n",
        "    feature_importance = np.mean(explain_matrix, axis=0)\n",
        "\n",
        "    # получаем индексы и сортируем по убыванию\n",
        "    important_indices = np.argsort(feature_importance)[::-1]\n",
        "\n",
        "    # получаем названия признаков и их важность\n",
        "    top_features_indices = important_indices[:num_top_features]\n",
        "    top_features = pd.Series(feature_importance[top_features_indices], index=np.array(feature_names)[top_features_indices]).sort_values(ascending=False)\n",
        "\n",
        "    return top_features"
      ],
      "metadata": {
        "id": "1NhkzsbLyjhA"
      },
      "execution_count": 35,
      "outputs": []
    },
    {
      "cell_type": "code",
      "source": [
        "top_features = get_top_features(clf, X_test, feature_names)\n",
        "print(\"Топ 7 наиболее важных признаков:\")\n",
        "print(top_features)"
      ],
      "metadata": {
        "id": "a_rk-7Txza3i",
        "outputId": "e960dffc-c67e-4334-dd21-d9b1ca54efd8",
        "colab": {
          "base_uri": "https://localhost:8080/"
        }
      },
      "execution_count": 36,
      "outputs": [
        {
          "output_type": "stream",
          "name": "stdout",
          "text": [
            "Топ 7 наиболее важных признаков:\n",
            "path_169b036d                    0.443266\n",
            "browser_Edge Mobile              0.428011\n",
            "timezone_id_af47f1               0.374661\n",
            "browser_version_116              0.199530\n",
            "domain_826d8f3                   0.191441\n",
            "domain_60d1206                   0.106385\n",
            "domain_805f010                   0.086161\n",
            "path_13016c97                    0.084882\n",
            "os_version_6                     0.044260\n",
            "browser_Instagram                0.040265\n",
            "country_id_ff9306                0.032264\n",
            "browser_Chrome Mobile WebView    0.030644\n",
            "domain_77ed592                   0.027659\n",
            "domain_635e50c                   0.024038\n",
            "domain_94dc6b2                   0.020531\n",
            "browser_version_78               0.015994\n",
            "browser_MiuiBrowser              0.007569\n",
            "domain_9836ce2                   0.002491\n",
            "browser_version_21               0.001847\n",
            "os_version_15                    0.001552\n",
            "dtype: float64\n"
          ]
        }
      ]
    },
    {
      "cell_type": "markdown",
      "source": [
        "Несмотря на то, что важность признаков продемонстрирована с учетом разделения данных на отдельные столбцы после применения метода get_dummies, можно сделать вывод, что наибольший вклад оказывают такие признаки из изначального датасета как domain, path, browser, browser_version, os_version"
      ],
      "metadata": {
        "id": "c8oV0UhF0Mp5"
      }
    },
    {
      "cell_type": "code",
      "source": [
        "saving_path_name = \"/content/tabnet_model81\"\n",
        "saved_filepath = clf.save_model(saving_path_name)"
      ],
      "metadata": {
        "colab": {
          "base_uri": "https://localhost:8080/"
        },
        "id": "m3Mrtuv0DIT-",
        "outputId": "136afbb9-e088-4453-ef2c-a1dccc78c58f"
      },
      "execution_count": 37,
      "outputs": [
        {
          "output_type": "stream",
          "name": "stdout",
          "text": [
            "Successfully saved model at /content/tabnet_model81.zip\n"
          ]
        }
      ]
    }
  ]
}