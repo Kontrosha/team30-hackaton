{
  "nbformat": 4,
  "nbformat_minor": 0,
  "metadata": {
    "colab": {
      "provenance": []
    },
    "kernelspec": {
      "name": "python3",
      "display_name": "Python 3"
    },
    "language_info": {
      "name": "python"
    }
  },
  "cells": [
    {
      "cell_type": "code",
      "execution_count": 6,
      "metadata": {
        "id": "zwpQKhWqZWzI",
        "colab": {
          "base_uri": "https://localhost:8080/"
        },
        "collapsed": true,
        "outputId": "8dd14b9c-bfeb-4dd8-fc3e-33e9a61a0c7b"
      },
      "outputs": [
        {
          "output_type": "stream",
          "name": "stdout",
          "text": [
            "Requirement already satisfied: pytorch-tabnet in /usr/local/lib/python3.10/dist-packages (4.1.0)\n",
            "Requirement already satisfied: numpy>=1.17 in /usr/local/lib/python3.10/dist-packages (from pytorch-tabnet) (1.26.4)\n",
            "Requirement already satisfied: scikit_learn>0.21 in /usr/local/lib/python3.10/dist-packages (from pytorch-tabnet) (1.6.0)\n",
            "Requirement already satisfied: scipy>1.4 in /usr/local/lib/python3.10/dist-packages (from pytorch-tabnet) (1.13.1)\n",
            "Requirement already satisfied: torch>=1.3 in /usr/local/lib/python3.10/dist-packages (from pytorch-tabnet) (2.5.1+cu121)\n",
            "Requirement already satisfied: tqdm>=4.36 in /usr/local/lib/python3.10/dist-packages (from pytorch-tabnet) (4.67.1)\n",
            "Requirement already satisfied: joblib>=1.2.0 in /usr/local/lib/python3.10/dist-packages (from scikit_learn>0.21->pytorch-tabnet) (1.4.2)\n",
            "Requirement already satisfied: threadpoolctl>=3.1.0 in /usr/local/lib/python3.10/dist-packages (from scikit_learn>0.21->pytorch-tabnet) (3.5.0)\n",
            "Requirement already satisfied: filelock in /usr/local/lib/python3.10/dist-packages (from torch>=1.3->pytorch-tabnet) (3.16.1)\n",
            "Requirement already satisfied: typing-extensions>=4.8.0 in /usr/local/lib/python3.10/dist-packages (from torch>=1.3->pytorch-tabnet) (4.12.2)\n",
            "Requirement already satisfied: networkx in /usr/local/lib/python3.10/dist-packages (from torch>=1.3->pytorch-tabnet) (3.4.2)\n",
            "Requirement already satisfied: jinja2 in /usr/local/lib/python3.10/dist-packages (from torch>=1.3->pytorch-tabnet) (3.1.4)\n",
            "Requirement already satisfied: fsspec in /usr/local/lib/python3.10/dist-packages (from torch>=1.3->pytorch-tabnet) (2024.10.0)\n",
            "Requirement already satisfied: sympy==1.13.1 in /usr/local/lib/python3.10/dist-packages (from torch>=1.3->pytorch-tabnet) (1.13.1)\n",
            "Requirement already satisfied: mpmath<1.4,>=1.1.0 in /usr/local/lib/python3.10/dist-packages (from sympy==1.13.1->torch>=1.3->pytorch-tabnet) (1.3.0)\n",
            "Requirement already satisfied: MarkupSafe>=2.0 in /usr/local/lib/python3.10/dist-packages (from jinja2->torch>=1.3->pytorch-tabnet) (3.0.2)\n"
          ]
        }
      ],
      "source": [
        "# импотируем необходимые библиотеки\n",
        "import pandas as pd\n",
        "import numpy as np\n",
        "import matplotlib.pyplot as plt\n",
        "import seaborn as sns\n",
        "!pip install pytorch-tabnet\n",
        "from pytorch_tabnet.tab_model import TabNetClassifier\n",
        "from pytorch_tabnet.callbacks import History\n",
        "from sklearn.model_selection import train_test_split\n",
        "from sklearn.preprocessing import OneHotEncoder\n",
        "from sklearn.metrics import accuracy_score\n"
      ]
    },
    {
      "cell_type": "code",
      "source": [
        "df = pd.read_csv(\"train.csv\")"
      ],
      "metadata": {
        "id": "IY_61oT8ZtvY"
      },
      "execution_count": 7,
      "outputs": []
    },
    {
      "cell_type": "code",
      "source": [
        "# выводим общую информацию о датасете\n",
        "df.info()"
      ],
      "metadata": {
        "colab": {
          "base_uri": "https://localhost:8080/"
        },
        "id": "2h5fjkNLaaGL",
        "outputId": "aa5defa3-6d47-4ee8-98f3-597d284d59af"
      },
      "execution_count": 8,
      "outputs": [
        {
          "output_type": "stream",
          "name": "stdout",
          "text": [
            "<class 'pandas.core.frame.DataFrame'>\n",
            "RangeIndex: 307000 entries, 0 to 306999\n",
            "Data columns (total 22 columns):\n",
            " #   Column           Non-Null Count   Dtype  \n",
            "---  ------           --------------   -----  \n",
            " 0   request_ts       307000 non-null  int64  \n",
            " 1   user_id          307000 non-null  object \n",
            " 2   referer          307000 non-null  object \n",
            " 3   geo_id           306999 non-null  float64\n",
            " 4   component0       306999 non-null  float64\n",
            " 5   component1       306999 non-null  float64\n",
            " 6   component2       306999 non-null  float64\n",
            " 7   component3       306999 non-null  float64\n",
            " 8   component4       306999 non-null  float64\n",
            " 9   component5       306999 non-null  float64\n",
            " 10  component6       306999 non-null  float64\n",
            " 11  component7       306999 non-null  float64\n",
            " 12  component8       306999 non-null  float64\n",
            " 13  component9       306999 non-null  float64\n",
            " 14  country_id       306999 non-null  object \n",
            " 15  region_id        306999 non-null  object \n",
            " 16  timezone_id      306999 non-null  object \n",
            " 17  browser          306999 non-null  object \n",
            " 18  browser_version  306999 non-null  object \n",
            " 19  os               306999 non-null  object \n",
            " 20  os_version       306999 non-null  object \n",
            " 21  target           306999 non-null  float64\n",
            "dtypes: float64(12), int64(1), object(9)\n",
            "memory usage: 51.5+ MB\n"
          ]
        }
      ]
    },
    {
      "cell_type": "code",
      "source": [
        "# удаляем пустые строки\n",
        "df = df.dropna()"
      ],
      "metadata": {
        "id": "mMQfQaujwA98"
      },
      "execution_count": 9,
      "outputs": []
    },
    {
      "cell_type": "code",
      "source": [
        "df.head()"
      ],
      "metadata": {
        "id": "3CSWcDSTwLNO",
        "colab": {
          "base_uri": "https://localhost:8080/",
          "height": 342
        },
        "outputId": "95c38733-4a7b-422d-fc7d-89cfb38e2664"
      },
      "execution_count": 10,
      "outputs": [
        {
          "output_type": "execute_result",
          "data": {
            "text/plain": [
              "   request_ts                           user_id                   referer  \\\n",
              "0  1701011363  fb858e8e0a2bec074450eaf94b627fd3          https://9b48ee5/   \n",
              "1  1700986581  46a5f128fd569c764a92c2eaa788095e          https://9b48ee5/   \n",
              "2  1701011071  5a74e9ac53ffb21a20cce117c0ad77ba  https://9634fd0/1409e548   \n",
              "3  1700992803  af735816ca19115431ae3d89518c8c91          https://9b48ee5/   \n",
              "4  1701021666  364f0ae0a3f29a685c4fb5bae6033b9a          https://9b48ee5/   \n",
              "\n",
              "   geo_id  component0  component1  component2  component3  component4  \\\n",
              "0  4799.0     11731.0      4045.0     22213.0     -1184.0     -8992.0   \n",
              "1  8257.0     11731.0      4045.0     22213.0     -1184.0     -8992.0   \n",
              "2  3150.0     12498.0      2451.0     10304.0     -6380.0     11608.0   \n",
              "3  2740.0     11731.0      4045.0     22213.0     -1184.0     -8992.0   \n",
              "4  4863.0     11731.0      4045.0     22213.0     -1184.0     -8992.0   \n",
              "\n",
              "   component5  ...  component8  component9  country_id  region_id timezone_id  \\\n",
              "0      9381.0  ...      -899.0     16817.0      c31b4e     470e75      f6155e   \n",
              "1      9381.0  ...      -899.0     16817.0      c31b4e     44520b      e56e80   \n",
              "2      3106.0  ...      3347.0     21870.0      c31b4e     616bb9      af47f1   \n",
              "3      9381.0  ...      -899.0     16817.0      c31b4e     3c9dca      e56e80   \n",
              "4      9381.0  ...      -899.0     16817.0      c31b4e     776e76     10b7947   \n",
              "\n",
              "          browser browser_version       os os_version target  \n",
              "0   Chrome Mobile         119.0.0  Android         10    0.0  \n",
              "1   Chrome Mobile         111.0.0  Android         10    0.0  \n",
              "2  Yandex Browser         20.12.5  Android         11    0.0  \n",
              "3   Chrome Mobile         119.0.0  Android         10    0.0  \n",
              "4  Yandex Browser         18.11.1  Android      4.4.4    0.0  \n",
              "\n",
              "[5 rows x 22 columns]"
            ],
            "text/html": [
              "\n",
              "  <div id=\"df-2d1395ec-9d3d-4c06-b48a-836a68eac0d2\" class=\"colab-df-container\">\n",
              "    <div>\n",
              "<style scoped>\n",
              "    .dataframe tbody tr th:only-of-type {\n",
              "        vertical-align: middle;\n",
              "    }\n",
              "\n",
              "    .dataframe tbody tr th {\n",
              "        vertical-align: top;\n",
              "    }\n",
              "\n",
              "    .dataframe thead th {\n",
              "        text-align: right;\n",
              "    }\n",
              "</style>\n",
              "<table border=\"1\" class=\"dataframe\">\n",
              "  <thead>\n",
              "    <tr style=\"text-align: right;\">\n",
              "      <th></th>\n",
              "      <th>request_ts</th>\n",
              "      <th>user_id</th>\n",
              "      <th>referer</th>\n",
              "      <th>geo_id</th>\n",
              "      <th>component0</th>\n",
              "      <th>component1</th>\n",
              "      <th>component2</th>\n",
              "      <th>component3</th>\n",
              "      <th>component4</th>\n",
              "      <th>component5</th>\n",
              "      <th>...</th>\n",
              "      <th>component8</th>\n",
              "      <th>component9</th>\n",
              "      <th>country_id</th>\n",
              "      <th>region_id</th>\n",
              "      <th>timezone_id</th>\n",
              "      <th>browser</th>\n",
              "      <th>browser_version</th>\n",
              "      <th>os</th>\n",
              "      <th>os_version</th>\n",
              "      <th>target</th>\n",
              "    </tr>\n",
              "  </thead>\n",
              "  <tbody>\n",
              "    <tr>\n",
              "      <th>0</th>\n",
              "      <td>1701011363</td>\n",
              "      <td>fb858e8e0a2bec074450eaf94b627fd3</td>\n",
              "      <td>https://9b48ee5/</td>\n",
              "      <td>4799.0</td>\n",
              "      <td>11731.0</td>\n",
              "      <td>4045.0</td>\n",
              "      <td>22213.0</td>\n",
              "      <td>-1184.0</td>\n",
              "      <td>-8992.0</td>\n",
              "      <td>9381.0</td>\n",
              "      <td>...</td>\n",
              "      <td>-899.0</td>\n",
              "      <td>16817.0</td>\n",
              "      <td>c31b4e</td>\n",
              "      <td>470e75</td>\n",
              "      <td>f6155e</td>\n",
              "      <td>Chrome Mobile</td>\n",
              "      <td>119.0.0</td>\n",
              "      <td>Android</td>\n",
              "      <td>10</td>\n",
              "      <td>0.0</td>\n",
              "    </tr>\n",
              "    <tr>\n",
              "      <th>1</th>\n",
              "      <td>1700986581</td>\n",
              "      <td>46a5f128fd569c764a92c2eaa788095e</td>\n",
              "      <td>https://9b48ee5/</td>\n",
              "      <td>8257.0</td>\n",
              "      <td>11731.0</td>\n",
              "      <td>4045.0</td>\n",
              "      <td>22213.0</td>\n",
              "      <td>-1184.0</td>\n",
              "      <td>-8992.0</td>\n",
              "      <td>9381.0</td>\n",
              "      <td>...</td>\n",
              "      <td>-899.0</td>\n",
              "      <td>16817.0</td>\n",
              "      <td>c31b4e</td>\n",
              "      <td>44520b</td>\n",
              "      <td>e56e80</td>\n",
              "      <td>Chrome Mobile</td>\n",
              "      <td>111.0.0</td>\n",
              "      <td>Android</td>\n",
              "      <td>10</td>\n",
              "      <td>0.0</td>\n",
              "    </tr>\n",
              "    <tr>\n",
              "      <th>2</th>\n",
              "      <td>1701011071</td>\n",
              "      <td>5a74e9ac53ffb21a20cce117c0ad77ba</td>\n",
              "      <td>https://9634fd0/1409e548</td>\n",
              "      <td>3150.0</td>\n",
              "      <td>12498.0</td>\n",
              "      <td>2451.0</td>\n",
              "      <td>10304.0</td>\n",
              "      <td>-6380.0</td>\n",
              "      <td>11608.0</td>\n",
              "      <td>3106.0</td>\n",
              "      <td>...</td>\n",
              "      <td>3347.0</td>\n",
              "      <td>21870.0</td>\n",
              "      <td>c31b4e</td>\n",
              "      <td>616bb9</td>\n",
              "      <td>af47f1</td>\n",
              "      <td>Yandex Browser</td>\n",
              "      <td>20.12.5</td>\n",
              "      <td>Android</td>\n",
              "      <td>11</td>\n",
              "      <td>0.0</td>\n",
              "    </tr>\n",
              "    <tr>\n",
              "      <th>3</th>\n",
              "      <td>1700992803</td>\n",
              "      <td>af735816ca19115431ae3d89518c8c91</td>\n",
              "      <td>https://9b48ee5/</td>\n",
              "      <td>2740.0</td>\n",
              "      <td>11731.0</td>\n",
              "      <td>4045.0</td>\n",
              "      <td>22213.0</td>\n",
              "      <td>-1184.0</td>\n",
              "      <td>-8992.0</td>\n",
              "      <td>9381.0</td>\n",
              "      <td>...</td>\n",
              "      <td>-899.0</td>\n",
              "      <td>16817.0</td>\n",
              "      <td>c31b4e</td>\n",
              "      <td>3c9dca</td>\n",
              "      <td>e56e80</td>\n",
              "      <td>Chrome Mobile</td>\n",
              "      <td>119.0.0</td>\n",
              "      <td>Android</td>\n",
              "      <td>10</td>\n",
              "      <td>0.0</td>\n",
              "    </tr>\n",
              "    <tr>\n",
              "      <th>4</th>\n",
              "      <td>1701021666</td>\n",
              "      <td>364f0ae0a3f29a685c4fb5bae6033b9a</td>\n",
              "      <td>https://9b48ee5/</td>\n",
              "      <td>4863.0</td>\n",
              "      <td>11731.0</td>\n",
              "      <td>4045.0</td>\n",
              "      <td>22213.0</td>\n",
              "      <td>-1184.0</td>\n",
              "      <td>-8992.0</td>\n",
              "      <td>9381.0</td>\n",
              "      <td>...</td>\n",
              "      <td>-899.0</td>\n",
              "      <td>16817.0</td>\n",
              "      <td>c31b4e</td>\n",
              "      <td>776e76</td>\n",
              "      <td>10b7947</td>\n",
              "      <td>Yandex Browser</td>\n",
              "      <td>18.11.1</td>\n",
              "      <td>Android</td>\n",
              "      <td>4.4.4</td>\n",
              "      <td>0.0</td>\n",
              "    </tr>\n",
              "  </tbody>\n",
              "</table>\n",
              "<p>5 rows × 22 columns</p>\n",
              "</div>\n",
              "    <div class=\"colab-df-buttons\">\n",
              "\n",
              "  <div class=\"colab-df-container\">\n",
              "    <button class=\"colab-df-convert\" onclick=\"convertToInteractive('df-2d1395ec-9d3d-4c06-b48a-836a68eac0d2')\"\n",
              "            title=\"Convert this dataframe to an interactive table.\"\n",
              "            style=\"display:none;\">\n",
              "\n",
              "  <svg xmlns=\"http://www.w3.org/2000/svg\" height=\"24px\" viewBox=\"0 -960 960 960\">\n",
              "    <path d=\"M120-120v-720h720v720H120Zm60-500h600v-160H180v160Zm220 220h160v-160H400v160Zm0 220h160v-160H400v160ZM180-400h160v-160H180v160Zm440 0h160v-160H620v160ZM180-180h160v-160H180v160Zm440 0h160v-160H620v160Z\"/>\n",
              "  </svg>\n",
              "    </button>\n",
              "\n",
              "  <style>\n",
              "    .colab-df-container {\n",
              "      display:flex;\n",
              "      gap: 12px;\n",
              "    }\n",
              "\n",
              "    .colab-df-convert {\n",
              "      background-color: #E8F0FE;\n",
              "      border: none;\n",
              "      border-radius: 50%;\n",
              "      cursor: pointer;\n",
              "      display: none;\n",
              "      fill: #1967D2;\n",
              "      height: 32px;\n",
              "      padding: 0 0 0 0;\n",
              "      width: 32px;\n",
              "    }\n",
              "\n",
              "    .colab-df-convert:hover {\n",
              "      background-color: #E2EBFA;\n",
              "      box-shadow: 0px 1px 2px rgba(60, 64, 67, 0.3), 0px 1px 3px 1px rgba(60, 64, 67, 0.15);\n",
              "      fill: #174EA6;\n",
              "    }\n",
              "\n",
              "    .colab-df-buttons div {\n",
              "      margin-bottom: 4px;\n",
              "    }\n",
              "\n",
              "    [theme=dark] .colab-df-convert {\n",
              "      background-color: #3B4455;\n",
              "      fill: #D2E3FC;\n",
              "    }\n",
              "\n",
              "    [theme=dark] .colab-df-convert:hover {\n",
              "      background-color: #434B5C;\n",
              "      box-shadow: 0px 1px 3px 1px rgba(0, 0, 0, 0.15);\n",
              "      filter: drop-shadow(0px 1px 2px rgba(0, 0, 0, 0.3));\n",
              "      fill: #FFFFFF;\n",
              "    }\n",
              "  </style>\n",
              "\n",
              "    <script>\n",
              "      const buttonEl =\n",
              "        document.querySelector('#df-2d1395ec-9d3d-4c06-b48a-836a68eac0d2 button.colab-df-convert');\n",
              "      buttonEl.style.display =\n",
              "        google.colab.kernel.accessAllowed ? 'block' : 'none';\n",
              "\n",
              "      async function convertToInteractive(key) {\n",
              "        const element = document.querySelector('#df-2d1395ec-9d3d-4c06-b48a-836a68eac0d2');\n",
              "        const dataTable =\n",
              "          await google.colab.kernel.invokeFunction('convertToInteractive',\n",
              "                                                    [key], {});\n",
              "        if (!dataTable) return;\n",
              "\n",
              "        const docLinkHtml = 'Like what you see? Visit the ' +\n",
              "          '<a target=\"_blank\" href=https://colab.research.google.com/notebooks/data_table.ipynb>data table notebook</a>'\n",
              "          + ' to learn more about interactive tables.';\n",
              "        element.innerHTML = '';\n",
              "        dataTable['output_type'] = 'display_data';\n",
              "        await google.colab.output.renderOutput(dataTable, element);\n",
              "        const docLink = document.createElement('div');\n",
              "        docLink.innerHTML = docLinkHtml;\n",
              "        element.appendChild(docLink);\n",
              "      }\n",
              "    </script>\n",
              "  </div>\n",
              "\n",
              "\n",
              "<div id=\"df-685191f4-ce82-4f89-aeee-69f62278f0aa\">\n",
              "  <button class=\"colab-df-quickchart\" onclick=\"quickchart('df-685191f4-ce82-4f89-aeee-69f62278f0aa')\"\n",
              "            title=\"Suggest charts\"\n",
              "            style=\"display:none;\">\n",
              "\n",
              "<svg xmlns=\"http://www.w3.org/2000/svg\" height=\"24px\"viewBox=\"0 0 24 24\"\n",
              "     width=\"24px\">\n",
              "    <g>\n",
              "        <path d=\"M19 3H5c-1.1 0-2 .9-2 2v14c0 1.1.9 2 2 2h14c1.1 0 2-.9 2-2V5c0-1.1-.9-2-2-2zM9 17H7v-7h2v7zm4 0h-2V7h2v10zm4 0h-2v-4h2v4z\"/>\n",
              "    </g>\n",
              "</svg>\n",
              "  </button>\n",
              "\n",
              "<style>\n",
              "  .colab-df-quickchart {\n",
              "      --bg-color: #E8F0FE;\n",
              "      --fill-color: #1967D2;\n",
              "      --hover-bg-color: #E2EBFA;\n",
              "      --hover-fill-color: #174EA6;\n",
              "      --disabled-fill-color: #AAA;\n",
              "      --disabled-bg-color: #DDD;\n",
              "  }\n",
              "\n",
              "  [theme=dark] .colab-df-quickchart {\n",
              "      --bg-color: #3B4455;\n",
              "      --fill-color: #D2E3FC;\n",
              "      --hover-bg-color: #434B5C;\n",
              "      --hover-fill-color: #FFFFFF;\n",
              "      --disabled-bg-color: #3B4455;\n",
              "      --disabled-fill-color: #666;\n",
              "  }\n",
              "\n",
              "  .colab-df-quickchart {\n",
              "    background-color: var(--bg-color);\n",
              "    border: none;\n",
              "    border-radius: 50%;\n",
              "    cursor: pointer;\n",
              "    display: none;\n",
              "    fill: var(--fill-color);\n",
              "    height: 32px;\n",
              "    padding: 0;\n",
              "    width: 32px;\n",
              "  }\n",
              "\n",
              "  .colab-df-quickchart:hover {\n",
              "    background-color: var(--hover-bg-color);\n",
              "    box-shadow: 0 1px 2px rgba(60, 64, 67, 0.3), 0 1px 3px 1px rgba(60, 64, 67, 0.15);\n",
              "    fill: var(--button-hover-fill-color);\n",
              "  }\n",
              "\n",
              "  .colab-df-quickchart-complete:disabled,\n",
              "  .colab-df-quickchart-complete:disabled:hover {\n",
              "    background-color: var(--disabled-bg-color);\n",
              "    fill: var(--disabled-fill-color);\n",
              "    box-shadow: none;\n",
              "  }\n",
              "\n",
              "  .colab-df-spinner {\n",
              "    border: 2px solid var(--fill-color);\n",
              "    border-color: transparent;\n",
              "    border-bottom-color: var(--fill-color);\n",
              "    animation:\n",
              "      spin 1s steps(1) infinite;\n",
              "  }\n",
              "\n",
              "  @keyframes spin {\n",
              "    0% {\n",
              "      border-color: transparent;\n",
              "      border-bottom-color: var(--fill-color);\n",
              "      border-left-color: var(--fill-color);\n",
              "    }\n",
              "    20% {\n",
              "      border-color: transparent;\n",
              "      border-left-color: var(--fill-color);\n",
              "      border-top-color: var(--fill-color);\n",
              "    }\n",
              "    30% {\n",
              "      border-color: transparent;\n",
              "      border-left-color: var(--fill-color);\n",
              "      border-top-color: var(--fill-color);\n",
              "      border-right-color: var(--fill-color);\n",
              "    }\n",
              "    40% {\n",
              "      border-color: transparent;\n",
              "      border-right-color: var(--fill-color);\n",
              "      border-top-color: var(--fill-color);\n",
              "    }\n",
              "    60% {\n",
              "      border-color: transparent;\n",
              "      border-right-color: var(--fill-color);\n",
              "    }\n",
              "    80% {\n",
              "      border-color: transparent;\n",
              "      border-right-color: var(--fill-color);\n",
              "      border-bottom-color: var(--fill-color);\n",
              "    }\n",
              "    90% {\n",
              "      border-color: transparent;\n",
              "      border-bottom-color: var(--fill-color);\n",
              "    }\n",
              "  }\n",
              "</style>\n",
              "\n",
              "  <script>\n",
              "    async function quickchart(key) {\n",
              "      const quickchartButtonEl =\n",
              "        document.querySelector('#' + key + ' button');\n",
              "      quickchartButtonEl.disabled = true;  // To prevent multiple clicks.\n",
              "      quickchartButtonEl.classList.add('colab-df-spinner');\n",
              "      try {\n",
              "        const charts = await google.colab.kernel.invokeFunction(\n",
              "            'suggestCharts', [key], {});\n",
              "      } catch (error) {\n",
              "        console.error('Error during call to suggestCharts:', error);\n",
              "      }\n",
              "      quickchartButtonEl.classList.remove('colab-df-spinner');\n",
              "      quickchartButtonEl.classList.add('colab-df-quickchart-complete');\n",
              "    }\n",
              "    (() => {\n",
              "      let quickchartButtonEl =\n",
              "        document.querySelector('#df-685191f4-ce82-4f89-aeee-69f62278f0aa button');\n",
              "      quickchartButtonEl.style.display =\n",
              "        google.colab.kernel.accessAllowed ? 'block' : 'none';\n",
              "    })();\n",
              "  </script>\n",
              "</div>\n",
              "    </div>\n",
              "  </div>\n"
            ],
            "application/vnd.google.colaboratory.intrinsic+json": {
              "type": "dataframe",
              "variable_name": "df"
            }
          },
          "metadata": {},
          "execution_count": 10
        }
      ]
    },
    {
      "cell_type": "markdown",
      "source": [
        "Из данных видим, что есть очевидно лишний столбец user_id, который не поможет при обучении, данные из столбца geo_id требует перевода в тип object, также приведем к целочисленному типу target, приведем к строковому типу данных referer для последующей обработки"
      ],
      "metadata": {
        "id": "C19qj5pOwSYp"
      }
    },
    {
      "cell_type": "code",
      "source": [
        "df.drop(columns=['user_id'], inplace=True)\n",
        "df['geo_id'] = df[\"geo_id\"].astype(\"object\")\n",
        "df['target'] = df[\"target\"].astype(\"int64\")\n",
        "df = df[df['referer'].apply(lambda x: isinstance(x, str))]"
      ],
      "metadata": {
        "id": "DuJ0Zwrni3CP"
      },
      "execution_count": 11,
      "outputs": []
    },
    {
      "cell_type": "markdown",
      "source": [
        "Разделим данные из колонки referer на domain и path - чтобы отдельно обрабатывать информацию об основной странице и отдельно - о вкладках, к которые переходил пользователь. Таким образом, удобнее обрабатывать данные о том, переходил ли пользователь куда-то кроме главной страницы. После со здания двух новых колонок удаляем referer"
      ],
      "metadata": {
        "id": "VU4QUsGfzQXq"
      }
    },
    {
      "cell_type": "code",
      "source": [
        "def split_referer(referer):\n",
        "    referer = referer[8::]\n",
        "    parts = referer.split('/', 2)\n",
        "    domain = parts[0]\n",
        "    if len(parts) > 1 and parts [1]:\n",
        "        path = parts[1]\n",
        "    else:\n",
        "        path = 'nopath'\n",
        "    return domain, path"
      ],
      "metadata": {
        "id": "rGX0GcG0nO1c"
      },
      "execution_count": 12,
      "outputs": []
    },
    {
      "cell_type": "code",
      "source": [
        "df[['domain', 'path']] = df['referer'].apply(split_referer).tolist()"
      ],
      "metadata": {
        "id": "RUcamZLPyS-T"
      },
      "execution_count": 13,
      "outputs": []
    },
    {
      "cell_type": "code",
      "source": [
        "df.drop(columns=['referer'], inplace=True)"
      ],
      "metadata": {
        "id": "xFs7aNS83CAi"
      },
      "execution_count": 14,
      "outputs": []
    },
    {
      "cell_type": "markdown",
      "source": [
        "Поскольку категориальные признаки нужно будет переводить в числовые и более правильным видится метод OneHotEncoding (ввиду отсутствия естественного порядка в данных (за исключением разве что browser_version и os_version, но для этого нужна дополнительная предобработка, так как разные версии относятся еще и к разным видам), то необходимо посмотреть на количество возможных новых столбцов. Как видим из статистики, данные нужно сокращать (в противном случае размер датасета становится около 9 Гб и не позволяет обучить модель на имеющихся ресурсах). Я применил следующее: обрезал номера версий ОС и браузеров до основного номера, по признакам 'domain', 'path', 'region_id', 'geo_id', 'browser_version', 'timezone_id' - редкие категории (количество которых менее 100) и по признаку 'os_version' (если количество менее 30) заменил на искуствнное значение 0"
      ],
      "metadata": {
        "id": "D6qXaXwS03FN"
      }
    },
    {
      "cell_type": "code",
      "source": [
        "columns_to_check = ['domain', 'path', 'country_id', 'geo_id', 'region_id', 'timezone_id', 'browser_version', 'os', 'os_version']\n",
        "unique_counts = df[columns_to_check].agg('nunique')\n",
        "print(unique_counts)"
      ],
      "metadata": {
        "colab": {
          "base_uri": "https://localhost:8080/"
        },
        "id": "iZLCQy5zSO44",
        "outputId": "d1c0bca6-b8ee-4e7d-e59a-0f1d285b9dd0"
      },
      "execution_count": 15,
      "outputs": [
        {
          "output_type": "stream",
          "name": "stdout",
          "text": [
            "domain              3980\n",
            "path               76894\n",
            "country_id            12\n",
            "geo_id              1824\n",
            "region_id            250\n",
            "timezone_id           60\n",
            "browser_version     1109\n",
            "os                     7\n",
            "os_version           201\n",
            "dtype: int64\n"
          ]
        }
      ]
    },
    {
      "cell_type": "code",
      "source": [
        "col_for_del = ['browser_version', 'os_version']\n",
        "for column in col_for_del:\n",
        "    df[column] = df[column].astype(str).str.split('.').str[0]"
      ],
      "metadata": {
        "id": "Gj2i7g12W3CG"
      },
      "execution_count": 16,
      "outputs": []
    },
    {
      "cell_type": "code",
      "source": [
        "for column in columns_to_check:\n",
        "    print(f\"Статистика по столбцу '{column}':\")\n",
        "    value_counts = df[column].value_counts()\n",
        "    print(value_counts)\n",
        "    print(\"-\" * 30)"
      ],
      "metadata": {
        "colab": {
          "base_uri": "https://localhost:8080/"
        },
        "id": "NI3UpXffTbq1",
        "outputId": "7fa6bce6-d654-4bff-deb5-bf5c1fb9bc50",
        "collapsed": true
      },
      "execution_count": 17,
      "outputs": [
        {
          "output_type": "stream",
          "name": "stdout",
          "text": [
            "Статистика по столбцу 'domain':\n",
            "domain\n",
            "72879b4    29235\n",
            "6a81948    26752\n",
            "8807153    15669\n",
            "9b08d64    14254\n",
            "9f1218f    12131\n",
            "           ...  \n",
            "9bb16a6        1\n",
            "9f4a150        1\n",
            "a0fdae6        1\n",
            "9485311        1\n",
            "77b579d        1\n",
            "Name: count, Length: 3980, dtype: int64\n",
            "------------------------------\n",
            "Статистика по столбцу 'path':\n",
            "path\n",
            "nopath      112951\n",
            "16658dd6      1829\n",
            "172507b2      1787\n",
            "175de82a      1278\n",
            "1458ef49      1050\n",
            "             ...  \n",
            "15d7bc32         1\n",
            "15349efa         1\n",
            "12ad935b         1\n",
            "16937fb2         1\n",
            "16a356f9         1\n",
            "Name: count, Length: 76894, dtype: int64\n",
            "------------------------------\n",
            "Статистика по столбцу 'country_id':\n",
            "country_id\n",
            "c31b4e     269884\n",
            "121db33     15945\n",
            "af12ca       5698\n",
            "b98648       4620\n",
            "1234f1d      4234\n",
            "ac5671       3629\n",
            "110628b       905\n",
            "e37756        826\n",
            "eba88b        772\n",
            "103bf7d       286\n",
            "122be0f       178\n",
            "ff9306         22\n",
            "Name: count, dtype: int64\n",
            "------------------------------\n",
            "Статистика по столбцу 'geo_id':\n",
            "geo_id\n",
            "3663.0    53999\n",
            "2521.0    23768\n",
            "4106.0     9797\n",
            "8816.0     9014\n",
            "1198.0     7864\n",
            "          ...  \n",
            "2471.0        1\n",
            "4700.0        1\n",
            "677.0         1\n",
            "4744.0        1\n",
            "9602.0        1\n",
            "Name: count, Length: 1824, dtype: int64\n",
            "------------------------------\n",
            "Статистика по столбцу 'region_id':\n",
            "region_id\n",
            "8ccc01    63515\n",
            "97023a    25592\n",
            "36e3f3    10828\n",
            "1b18a1    10782\n",
            "5f9c68    10028\n",
            "          ...  \n",
            "9712d9        1\n",
            "1ca27d        1\n",
            "967598        1\n",
            "7f4167        1\n",
            "5b541b        1\n",
            "Name: count, Length: 250, dtype: int64\n",
            "------------------------------\n",
            "Статистика по столбцу 'timezone_id':\n",
            "timezone_id\n",
            "e56e80     166829\n",
            "f6155e      35556\n",
            "ac9429      15945\n",
            "10b7947     11523\n",
            "9cdb77      10028\n",
            "ef97a6       5061\n",
            "b4a275       4613\n",
            "f7f7b5       4293\n",
            "be683c       4211\n",
            "1054b86      4086\n",
            "115b511      4026\n",
            "992ebe       3832\n",
            "ad8d84       3647\n",
            "b017ac       3629\n",
            "caf0e9       3592\n",
            "e7021b       2988\n",
            "c65773       2711\n",
            "b72333       2428\n",
            "ab90ca       2224\n",
            "1304d52      1825\n",
            "df194e       1638\n",
            "109a080      1574\n",
            "ced83d       1445\n",
            "c1ffd0       1327\n",
            "af47f1        974\n",
            "cea125        973\n",
            "11a38d2       905\n",
            "e3abc2        826\n",
            "124b6f2       725\n",
            "accf88        583\n",
            "d6f683        562\n",
            "abea49        414\n",
            "fcd4df        355\n",
            "dd8d07        322\n",
            "1041045       203\n",
            "d93ac7        202\n",
            "fb36b2        191\n",
            "ca5519        178\n",
            "fd4ddf        119\n",
            "10b11be       110\n",
            "12119c5       108\n",
            "dc32f4         36\n",
            "c0b986         30\n",
            "d903ee         29\n",
            "cde24c         27\n",
            "e38b8d         22\n",
            "ca5e36         21\n",
            "f55fca         10\n",
            "c56e83          9\n",
            "10ba90d         6\n",
            "fcada0          5\n",
            "d5b4d6          4\n",
            "cb876b          4\n",
            "eb8296          4\n",
            "c7030f          3\n",
            "122944d         2\n",
            "124ce1d         2\n",
            "11975eb         2\n",
            "12bec9f         1\n",
            "b7096b          1\n",
            "Name: count, dtype: int64\n",
            "------------------------------\n",
            "Статистика по столбцу 'browser_version':\n",
            "browser_version\n",
            "119    117189\n",
            "23      62495\n",
            "118     24776\n",
            "116     17520\n",
            "109      7615\n",
            "        ...  \n",
            "169         1\n",
            "299         1\n",
            "262         1\n",
            "362         1\n",
            "40          1\n",
            "Name: count, Length: 177, dtype: int64\n",
            "------------------------------\n",
            "Статистика по столбцу 'os':\n",
            "os\n",
            "Android          218838\n",
            "Windows           77261\n",
            "iOS                7960\n",
            "Mac OS X           2553\n",
            "Tizen               339\n",
            "Chrome OS            40\n",
            "Windows Phone         8\n",
            "Name: count, dtype: int64\n",
            "------------------------------\n",
            "Статистика по столбцу 'os_version':\n",
            "os_version\n",
            "10       192324\n",
            "13        29641\n",
            "11        25223\n",
            "12        19690\n",
            "7         12499\n",
            "9          9462\n",
            "8          7800\n",
            "16         2652\n",
            "17         2409\n",
            "15         1667\n",
            "6          1151\n",
            "5           961\n",
            "14          806\n",
            "4           296\n",
            "XP          294\n",
            "Vista        37\n",
            "3            37\n",
            "14541        27\n",
            "2             5\n",
            "14816         4\n",
            "23            4\n",
            "13816         2\n",
            "10718         2\n",
            "12239         1\n",
            "13904         1\n",
            "14092         1\n",
            "12105         1\n",
            "NT            1\n",
            "12371         1\n",
            "Name: count, dtype: int64\n",
            "------------------------------\n"
          ]
        }
      ]
    },
    {
      "cell_type": "code",
      "source": [
        "def rare_100(df, columns):\n",
        "    for col in columns:\n",
        "        value_counts = df[col].value_counts()\n",
        "        rare_values = value_counts[value_counts <= 100].index\n",
        "        df[col] = df[col].replace(rare_values, 0)\n",
        "    return df\n",
        "\n",
        "def rare_os(df, columns):\n",
        "    for col in columns:\n",
        "        value_counts = df[col].value_counts()\n",
        "        rare_values = value_counts[value_counts <= 30].index\n",
        "        df[col] = df[col].replace(rare_values, 0)\n",
        "    return df"
      ],
      "metadata": {
        "id": "T2Vs8VG9UHdb"
      },
      "execution_count": 18,
      "outputs": []
    },
    {
      "cell_type": "code",
      "source": [
        "df = rare_100(df, ['domain', 'path', 'region_id', 'geo_id', 'browser_version', 'timezone_id'])\n",
        "df = rare_os(df, ['os_version'])"
      ],
      "metadata": {
        "colab": {
          "base_uri": "https://localhost:8080/"
        },
        "id": "TWAx3VFTVyYa",
        "outputId": "f3c0a53a-e77c-4c3f-8571-ed4e381337d2"
      },
      "execution_count": 19,
      "outputs": [
        {
          "output_type": "stream",
          "name": "stderr",
          "text": [
            "<ipython-input-18-d5f553256292>:5: FutureWarning: Downcasting behavior in `replace` is deprecated and will be removed in a future version. To retain the old behavior, explicitly call `result.infer_objects(copy=False)`. To opt-in to the future behavior, set `pd.set_option('future.no_silent_downcasting', True)`\n",
            "  df[col] = df[col].replace(rare_values, 0)\n"
          ]
        }
      ]
    },
    {
      "cell_type": "code",
      "source": [
        "for column in columns_to_check:\n",
        "    print(f\"Статистика по столбцу '{column}':\")\n",
        "    value_counts = df[column].value_counts()\n",
        "    print(value_counts)\n",
        "    print(\"-\" * 30)"
      ],
      "metadata": {
        "colab": {
          "base_uri": "https://localhost:8080/"
        },
        "id": "2gPJcWBkVyj7",
        "outputId": "693a52ef-6169-4891-cd7d-c0a884bb51ba",
        "collapsed": true
      },
      "execution_count": 20,
      "outputs": [
        {
          "output_type": "stream",
          "name": "stdout",
          "text": [
            "Статистика по столбцу 'domain':\n",
            "domain\n",
            "0          30018\n",
            "72879b4    29235\n",
            "6a81948    26752\n",
            "8807153    15669\n",
            "9b08d64    14254\n",
            "           ...  \n",
            "6765856      102\n",
            "84614fa      102\n",
            "ad3dab1      102\n",
            "6606efb      101\n",
            "862a53d      101\n",
            "Name: count, Length: 246, dtype: int64\n",
            "------------------------------\n",
            "Статистика по столбцу 'path':\n",
            "path\n",
            "0           151599\n",
            "nopath      112951\n",
            "16658dd6      1829\n",
            "172507b2      1787\n",
            "175de82a      1278\n",
            "             ...  \n",
            "15436b9b       104\n",
            "127baebd       103\n",
            "17d23922       103\n",
            "142ad557       102\n",
            "12fd3182       102\n",
            "Name: count, Length: 177, dtype: int64\n",
            "------------------------------\n",
            "Статистика по столбцу 'country_id':\n",
            "country_id\n",
            "c31b4e     269884\n",
            "121db33     15945\n",
            "af12ca       5698\n",
            "b98648       4620\n",
            "1234f1d      4234\n",
            "ac5671       3629\n",
            "110628b       905\n",
            "e37756        826\n",
            "eba88b        772\n",
            "103bf7d       286\n",
            "122be0f       178\n",
            "ff9306         22\n",
            "Name: count, dtype: int64\n",
            "------------------------------\n",
            "Статистика по столбцу 'geo_id':\n",
            "geo_id\n",
            "3663.0    53999\n",
            "0.0       24487\n",
            "2521.0    23768\n",
            "4106.0     9797\n",
            "8816.0     9014\n",
            "          ...  \n",
            "6989.0      102\n",
            "9991.0      102\n",
            "4293.0      101\n",
            "7826.0      101\n",
            "1171.0      101\n",
            "Name: count, Length: 231, dtype: int64\n",
            "------------------------------\n",
            "Статистика по столбцу 'region_id':\n",
            "region_id\n",
            "8ccc01    63515\n",
            "97023a    25592\n",
            "36e3f3    10828\n",
            "1b18a1    10782\n",
            "5f9c68    10028\n",
            "          ...  \n",
            "2adb53      129\n",
            "21e52f      120\n",
            "30af3a      108\n",
            "887d39      106\n",
            "51295c      103\n",
            "Name: count, Length: 115, dtype: int64\n",
            "------------------------------\n",
            "Статистика по столбцу 'timezone_id':\n",
            "timezone_id\n",
            "e56e80     166829\n",
            "f6155e      35556\n",
            "ac9429      15945\n",
            "10b7947     11523\n",
            "9cdb77      10028\n",
            "ef97a6       5061\n",
            "b4a275       4613\n",
            "f7f7b5       4293\n",
            "be683c       4211\n",
            "1054b86      4086\n",
            "115b511      4026\n",
            "992ebe       3832\n",
            "ad8d84       3647\n",
            "b017ac       3629\n",
            "caf0e9       3592\n",
            "e7021b       2988\n",
            "c65773       2711\n",
            "b72333       2428\n",
            "ab90ca       2224\n",
            "1304d52      1825\n",
            "df194e       1638\n",
            "109a080      1574\n",
            "ced83d       1445\n",
            "c1ffd0       1327\n",
            "af47f1        974\n",
            "cea125        973\n",
            "11a38d2       905\n",
            "e3abc2        826\n",
            "124b6f2       725\n",
            "accf88        583\n",
            "d6f683        562\n",
            "abea49        414\n",
            "fcd4df        355\n",
            "dd8d07        322\n",
            "0             218\n",
            "1041045       203\n",
            "d93ac7        202\n",
            "fb36b2        191\n",
            "ca5519        178\n",
            "fd4ddf        119\n",
            "10b11be       110\n",
            "12119c5       108\n",
            "Name: count, dtype: int64\n",
            "------------------------------\n",
            "Статистика по столбцу 'browser_version':\n",
            "browser_version\n",
            "119    117189\n",
            "23      62495\n",
            "118     24776\n",
            "116     17520\n",
            "109      7615\n",
            "        ...  \n",
            "11        126\n",
            "290       117\n",
            "72        116\n",
            "49        105\n",
            "71        101\n",
            "Name: count, Length: 71, dtype: int64\n",
            "------------------------------\n",
            "Статистика по столбцу 'os':\n",
            "os\n",
            "Android          218838\n",
            "Windows           77261\n",
            "iOS                7960\n",
            "Mac OS X           2553\n",
            "Tizen               339\n",
            "Chrome OS            40\n",
            "Windows Phone         8\n",
            "Name: count, dtype: int64\n",
            "------------------------------\n",
            "Статистика по столбцу 'os_version':\n",
            "os_version\n",
            "10       192324\n",
            "13        29641\n",
            "11        25223\n",
            "12        19690\n",
            "7         12499\n",
            "9          9462\n",
            "8          7800\n",
            "16         2652\n",
            "17         2409\n",
            "15         1667\n",
            "6          1151\n",
            "5           961\n",
            "14          806\n",
            "4           296\n",
            "XP          294\n",
            "0            50\n",
            "Vista        37\n",
            "3            37\n",
            "Name: count, dtype: int64\n",
            "------------------------------\n"
          ]
        }
      ]
    },
    {
      "cell_type": "markdown",
      "source": [
        "Для категориальных признаков применяем OneHotEncoding"
      ],
      "metadata": {
        "id": "LB_v2m_83Y9f"
      }
    },
    {
      "cell_type": "code",
      "source": [
        "features_to_encode = ['domain', 'path', 'country_id', 'region_id', 'os', 'os_version', 'browser', 'timezone_id', 'browser_version']"
      ],
      "metadata": {
        "id": "uK-NKCd79KkQ"
      },
      "execution_count": 21,
      "outputs": []
    },
    {
      "cell_type": "code",
      "source": [
        "df = pd.get_dummies(df, columns=features_to_encode, prefix=features_to_encode)"
      ],
      "metadata": {
        "id": "rYjsUJDu_DDE"
      },
      "execution_count": 22,
      "outputs": []
    },
    {
      "cell_type": "code",
      "source": [
        "def convert_bool_columns_to_int(df):\n",
        "    for column in df.columns:\n",
        "        if df[column].dtype == 'bool':\n",
        "            df[column] = df[column].astype(int)\n",
        "    return df\n",
        "\n",
        "df = convert_bool_columns_to_int(df)"
      ],
      "metadata": {
        "id": "ILAEUE_HTKjN"
      },
      "execution_count": 23,
      "outputs": []
    },
    {
      "cell_type": "markdown",
      "source": [
        "Создаем отдельные датафреймы с обучающими данными и с целевым признаком. Разделяем данные на обучающую, валидационную и тестовую выборки, преобразуем их к формату, читаемому моделью TabNet"
      ],
      "metadata": {
        "id": "YECleQ-Z3jvI"
      }
    },
    {
      "cell_type": "code",
      "source": [
        "df.to_csv('/content/dfdot.csv', sep=';', encoding='utf-8')\n",
        "df.to_csv('/content/dfnedot.csv', sep=',', encoding='utf-8')"
      ],
      "metadata": {
        "id": "qvcNwaGXSLLJ"
      },
      "execution_count": 24,
      "outputs": []
    },
    {
      "cell_type": "code",
      "source": [
        "X = df.drop('target', axis=1)\n",
        "y = df['target']"
      ],
      "metadata": {
        "id": "6CRY3F3b3iEE"
      },
      "execution_count": 25,
      "outputs": []
    },
    {
      "cell_type": "code",
      "source": [
        "X_train, X_temp, y_train, y_temp = train_test_split(X, y, test_size=0.3, random_state=42)\n",
        "X_valid, X_test, y_valid, y_test = train_test_split(X_temp, y_temp, test_size=0.4, random_state=42)"
      ],
      "metadata": {
        "id": "l6virhOUK3Fj"
      },
      "execution_count": 26,
      "outputs": []
    },
    {
      "cell_type": "code",
      "source": [
        "X_train = X_train.values\n",
        "X_valid = X_valid.values\n",
        "X_test = X_test.values\n",
        "y_train = y_train.values\n",
        "y_valid = y_valid.values\n",
        "y_test = y_test.values"
      ],
      "metadata": {
        "id": "Zkide3UF5vkl"
      },
      "execution_count": 27,
      "outputs": []
    },
    {
      "cell_type": "markdown",
      "source": [
        "Обучение проводилось с разными вариациями гиперпараметров (в частности, max_epochs, batch_size, num_workers). Ниже представлена итоговая версия, которая показала лучший результат (все значения оставлены дефолтными кроме количества эпох)"
      ],
      "metadata": {
        "id": "Jc-eRgDMocdc"
      }
    },
    {
      "cell_type": "code",
      "source": [
        "clf = TabNetClassifier()\n",
        "clf.fit(\n",
        "  X_train, y_train,\n",
        "  eval_set=[(X_valid, y_valid)],\n",
        "  max_epochs=35,\n",
        "  callbacks=[]\n",
        ")"
      ],
      "metadata": {
        "id": "m2dYQmB34mSe",
        "colab": {
          "base_uri": "https://localhost:8080/"
        },
        "outputId": "abb06207-50d3-4eb3-9263-b61c54827beb"
      },
      "execution_count": null,
      "outputs": [
        {
          "output_type": "stream",
          "name": "stderr",
          "text": [
            "/usr/local/lib/python3.10/dist-packages/pytorch_tabnet/abstract_model.py:82: UserWarning: Device used : cpu\n",
            "  warnings.warn(f\"Device used : {self.device}\")\n"
          ]
        },
        {
          "output_type": "stream",
          "name": "stdout",
          "text": [
            "epoch 0  | loss: 0.6631  | val_0_auc: 0.69574 |  0:02:06s\n",
            "epoch 1  | loss: 0.58673 | val_0_auc: 0.68392 |  0:04:12s\n",
            "epoch 2  | loss: 0.52207 | val_0_auc: 0.69173 |  0:06:17s\n",
            "epoch 3  | loss: 0.49375 | val_0_auc: 0.72337 |  0:08:27s\n",
            "epoch 4  | loss: 0.47559 | val_0_auc: 0.85238 |  0:10:34s\n",
            "epoch 5  | loss: 0.46836 | val_0_auc: 0.86363 |  0:12:44s\n",
            "epoch 6  | loss: 0.45458 | val_0_auc: 0.86973 |  0:14:54s\n",
            "epoch 7  | loss: 0.44524 | val_0_auc: 0.87244 |  0:17:02s\n",
            "epoch 8  | loss: 0.44053 | val_0_auc: 0.87513 |  0:19:16s\n",
            "epoch 9  | loss: 0.4402  | val_0_auc: 0.87602 |  0:21:27s\n",
            "epoch 10 | loss: 0.43408 | val_0_auc: 0.87766 |  0:23:32s\n",
            "epoch 11 | loss: 0.43554 | val_0_auc: 0.87798 |  0:25:45s\n",
            "epoch 12 | loss: 0.43127 | val_0_auc: 0.87845 |  0:27:52s\n",
            "epoch 13 | loss: 0.42809 | val_0_auc: 0.87962 |  0:29:57s\n",
            "epoch 14 | loss: 0.4297  | val_0_auc: 0.87655 |  0:32:08s\n",
            "epoch 15 | loss: 0.42636 | val_0_auc: 0.8799  |  0:34:19s\n",
            "epoch 16 | loss: 0.42442 | val_0_auc: 0.88102 |  0:36:24s\n",
            "epoch 17 | loss: 0.42533 | val_0_auc: 0.87476 |  0:38:46s\n",
            "epoch 18 | loss: 0.42894 | val_0_auc: 0.88096 |  0:40:57s\n",
            "epoch 19 | loss: 0.42044 | val_0_auc: 0.87921 |  0:43:03s\n",
            "epoch 20 | loss: 0.42095 | val_0_auc: 0.87629 |  0:45:11s\n",
            "epoch 21 | loss: 0.42281 | val_0_auc: 0.87909 |  0:47:28s\n",
            "epoch 22 | loss: 0.41739 | val_0_auc: 0.88064 |  0:49:36s\n",
            "epoch 23 | loss: 0.41733 | val_0_auc: 0.88099 |  0:51:43s\n",
            "epoch 24 | loss: 0.41496 | val_0_auc: 0.88022 |  0:53:46s\n",
            "epoch 25 | loss: 0.41218 | val_0_auc: 0.88311 |  0:55:54s\n",
            "epoch 26 | loss: 0.41028 | val_0_auc: 0.88316 |  0:58:04s\n",
            "epoch 27 | loss: 0.40916 | val_0_auc: 0.88279 |  1:00:07s\n",
            "epoch 28 | loss: 0.40739 | val_0_auc: 0.88314 |  1:02:21s\n",
            "epoch 29 | loss: 0.40814 | val_0_auc: 0.88221 |  1:04:25s\n",
            "epoch 30 | loss: 0.40726 | val_0_auc: 0.88234 |  1:06:33s\n",
            "epoch 31 | loss: 0.4049  | val_0_auc: 0.88359 |  1:08:48s\n",
            "epoch 32 | loss: 0.40686 | val_0_auc: 0.88198 |  1:11:05s\n",
            "epoch 33 | loss: 0.40431 | val_0_auc: 0.88248 |  1:13:25s\n",
            "epoch 34 | loss: 0.40267 | val_0_auc: 0.88271 |  1:15:28s\n",
            "Stop training because you reached max_epochs = 35 with best_epoch = 31 and best_val_0_auc = 0.88359\n"
          ]
        },
        {
          "output_type": "stream",
          "name": "stderr",
          "text": [
            "/usr/local/lib/python3.10/dist-packages/pytorch_tabnet/callbacks.py:172: UserWarning: Best weights from best epoch are automatically used!\n",
            "  warnings.warn(wrn_msg)\n"
          ]
        }
      ]
    },
    {
      "cell_type": "markdown",
      "source": [
        "Получаем историю обучения и строим график"
      ],
      "metadata": {
        "id": "oKQ434h29KWG"
      }
    },
    {
      "cell_type": "code",
      "source": [
        "history = clf.history\n",
        "train_loss = history['train_loss']\n",
        "valid_loss = history['valid_0_loss']\n",
        "valid_accuracy = history['valid_0_accuracy']"
      ],
      "metadata": {
        "id": "95EHIvgEpTyG"
      },
      "execution_count": null,
      "outputs": []
    },
    {
      "cell_type": "code",
      "source": [],
      "metadata": {
        "id": "0wiSvVq8m8Ar"
      },
      "execution_count": null,
      "outputs": []
    },
    {
      "cell_type": "code",
      "source": [
        "epochs = range(1, len(train_loss) + 1)\n",
        "\n",
        "plt.figure(figsize=(12, 6))\n",
        "\n",
        "plt.subplot(1, 2, 1)\n",
        "plt.plot(epochs, train_loss, 'b', label='Training loss')\n",
        "plt.plot(epochs, valid_loss, 'r', label='Validation loss')\n",
        "plt.title('Training and validation loss')\n",
        "plt.xlabel('Эпохи')\n",
        "plt.ylabel('Loss')\n",
        "plt.legend()\n",
        "\n",
        "plt.subplot(1, 2, 2)\n",
        "plt.plot(epochs, valid_accuracy, 'g', label='Validation accuracy')\n",
        "plt.title('Validation accuracy')\n",
        "plt.xlabel('Epochs')\n",
        "plt.ylabel('Accuracy')\n",
        "plt.legend()\n",
        "\n",
        "plt.tight_layout()\n",
        "plt.show()"
      ],
      "metadata": {
        "id": "BAtPKaTBv87x"
      },
      "execution_count": null,
      "outputs": []
    },
    {
      "cell_type": "code",
      "source": [
        "preds = clf.predict(X_test)\n",
        "accuracy = accuracy_score(y_test, preds)\n",
        "print(f\"Accuracy на тестовых данных: {accuracy:.4f}\")"
      ],
      "metadata": {
        "id": "cUTzgAZC4nP1",
        "colab": {
          "base_uri": "https://localhost:8080/"
        },
        "outputId": "858fd58c-3156-47d3-f26e-b827c08c2dc7"
      },
      "execution_count": null,
      "outputs": [
        {
          "output_type": "stream",
          "name": "stdout",
          "text": [
            "Accuracy на тестовых данных: 0.7980\n"
          ]
        }
      ]
    },
    {
      "cell_type": "code",
      "source": [
        "# вычисляем важность признаков, основываясь на масках внимания TabNet\n",
        "def get_feature_importances(model, x, feature_names):\n",
        "    try:\n",
        "        att_masks = model.explain(x)\n",
        "    except Exception as e:\n",
        "        print(f\"Ошибка при вызове model.explain(): {e}\")\n",
        "        return None\n",
        "\n",
        "    # Sum the importance of each feature\n",
        "    feature_importances = np.sum(np.mean(att_masks, axis=0), axis=0)\n",
        "\n",
        "    # Create a pandas DataFrame for easier handling and visualization\n",
        "    feature_importance_df = pd.DataFrame({\n",
        "        'feature': feature_names,\n",
        "        'importance': feature_importances\n",
        "    })\n",
        "    feature_importance_df = feature_importance_df.sort_values(by='importance', ascending=False).reset_index(drop=True)\n",
        "    return feature_importance_df"
      ],
      "metadata": {
        "id": "w4ahru6prW9X"
      },
      "execution_count": null,
      "outputs": []
    },
    {
      "cell_type": "code",
      "source": [
        "feature_importance_df = get_feature_importances(clf, X_test, ['os', 'os_version'])"
      ],
      "metadata": {
        "id": "bYRo1Kppr9kg"
      },
      "execution_count": null,
      "outputs": []
    },
    {
      "cell_type": "code",
      "source": [
        "# Визуализация важности признаков (опционально):\n",
        "def plot_feature_importances(feature_importance_df, top_n=None, title=\"Feature Importances\"):\n",
        "    \"\"\"\n",
        "    Строит график важности признаков.\n",
        "\n",
        "    Args:\n",
        "        feature_importance_df (pandas.DataFrame): DataFrame с важностью признаков.\n",
        "        top_n (int, optional): Количество топ признаков для отображения. Defaults to None.\n",
        "        title (str, optional): Заголовок графика. Defaults to \"Feature Importances\".\n",
        "    \"\"\"\n",
        "    if top_n:\n",
        "        feature_importance_df = feature_importance_df.head(top_n)\n",
        "\n",
        "    plt.figure(figsize=(10, 6))\n",
        "    sns.barplot(x=\"importance\", y=\"feature\", data=feature_importance_df, palette=\"viridis\")\n",
        "    plt.title(title)\n",
        "    plt.xlabel(\"Importance\")\n",
        "    plt.ylabel(\"Feature\")\n",
        "    plt.tight_layout()\n",
        "    plt.show()\n",
        "\n",
        "# Визуализируем\n",
        "if feature_importance_df is not None:\n",
        "    plot_feature_importances(feature_importance_df, top_n=10, title=\"Top 10 Feature Importances\")\n",
        "else:\n",
        "    print(\"Не удалось получить карту важности признаков\")"
      ],
      "metadata": {
        "id": "GaBt9zR6r995"
      },
      "execution_count": null,
      "outputs": []
    }
  ]
}